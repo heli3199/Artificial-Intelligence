{
  "nbformat": 4,
  "nbformat_minor": 0,
  "metadata": {
    "accelerator": "GPU",
    "colab": {
      "name": "Assignment_03_Exercises.ipynb",
      "provenance": [],
      "collapsed_sections": [],
      "include_colab_link": true
    },
    "kernelspec": {
      "display_name": "Python 3",
      "language": "python",
      "name": "python3"
    },
    "language_info": {
      "codemirror_mode": {
        "name": "ipython",
        "version": 3
      },
      "file_extension": ".py",
      "mimetype": "text/x-python",
      "name": "python",
      "nbconvert_exporter": "python",
      "pygments_lexer": "ipython3",
      "version": "3.7.3"
    }
  },
  "cells": [
    {
      "cell_type": "markdown",
      "metadata": {
        "id": "view-in-github",
        "colab_type": "text"
      },
      "source": [
        "<a href=\"https://colab.research.google.com/github/heli3199/Artificial-Intelligence/blob/main/Assignment_03_Exercises.ipynb\" target=\"_parent\"><img src=\"https://colab.research.google.com/assets/colab-badge.svg\" alt=\"Open In Colab\"/></a>"
      ]
    },
    {
      "cell_type": "markdown",
      "metadata": {
        "id": "kLTpDVQk0ozE"
      },
      "source": [
        "# ECE 57000 Assignment 3 Exercises\n",
        "\n",
        "\n",
        "\n",
        "Name: Heliben Parikh"
      ]
    },
    {
      "cell_type": "markdown",
      "metadata": {
        "id": "l1DW4P22qMwX"
      },
      "source": [
        "# Exercise 0 (Important submission information)\n",
        "\n",
        "1. Follow the instructions in the provided \"uploader.ipynb\" to convert your ipynb file into PDF format.\n",
        "2. Please make sure to select the corresponding pages for each exercise when you submitting your PDF to Gradescope. Make sure to include both the **output** and the **code** when selecting pages. (You do not need to include the instruction for the exercises)\n",
        "\n",
        "\n",
        "**We may assess a 20% penalty for those who do not correctly follow these steps.**"
      ]
    },
    {
      "cell_type": "markdown",
      "metadata": {
        "id": "JqJeDZYM1LbR"
      },
      "source": [
        "## Exercise 1\n",
        "\n",
        "In this exercise, you will implement linear regression using the polynomial features and compare results for diferent choices of degrees for the polynomial visually.\n",
        "\n",
        "### Task 1: Generate the data\n",
        "The data should be a noisy version of a sin wave i.e\n",
        "$y = \\sin (x) + \\epsilon $  where $\\epsilon \\sim \\text{NormalDistribution}(\\mu,\\sigma)$\n",
        "1. Generate **50** evenly spaced numbers over the interval $[0,4\\pi]$ and store them as a vector called `X`.\n",
        "2. Generate `y` from `X` by using the equation above with the parameter $\\mu=0, \\sigma=0.1$\n",
        "3. Do a scatter plot on `X` and `y` and give the plot and axis reasonable names/title.\n"
      ]
    },
    {
      "cell_type": "code",
      "metadata": {
        "id": "IVAotrp7Y55Z",
        "colab": {
          "base_uri": "https://localhost:8080/",
          "height": 295
        },
        "outputId": "94cbb513-ccf2-4ce1-a64e-3b6b70cbecf8"
      },
      "source": [
        "import numpy as np\n",
        "import matplotlib.pyplot as plt\n",
        "%matplotlib inline\n",
        "\n",
        "####################         YOUR CODE         ####################\n",
        "num = 50\n",
        "x= np.linspace(0,4*np.pi,50)\n",
        "y = np.sin(x) + 0.1*np.random.randn(num)\n",
        "\n",
        "#plt.figure(figsize=(6,6))\n",
        "plt.title(\"Scatter plot of x and y\")\n",
        "plt.xlabel(\"x\")\n",
        "plt.ylabel(\"y\")\n",
        "plt.scatter(x,y, label=\"Scatter plot of E\")\n",
        "plt.legend()\n",
        "####################         END CODE          ####################\n",
        "\n",
        "plt.show()"
      ],
      "execution_count": null,
      "outputs": [
        {
          "output_type": "display_data",
          "data": {
            "image/png": "[encoded data removed]",
            "text/plain": [
              "<Figure size 432x288 with 1 Axes>"
            ]
          },
          "metadata": {
            "needs_background": "light"
          }
        }
      ]
    },
    {
      "cell_type": "markdown",
      "metadata": {
        "id": "2F9jxyLnR3nZ"
      },
      "source": [
        "### Task 2: Fit the data\n",
        "Now try to use tools in sklearn to fit the data with varying degrees of the polynomial. The general process is:\n",
        "1. Create an estimator based on pipelining the function **PolynomialFeatures(degree)** and **LinearRegression()** (Read the instruction)\n",
        "2. Fit the estimator to the data you created in Task 1. (Note the estimator will expect a 2D array so you may have to reshape `X`.)\n",
        "3. Evaluate your trained estimator by using the given vector **xfit**, and plot the result curve over the scatter plot of your data.\n",
        "(The plot should look similar to the plot on the part 1 of the instruction)\n",
        "\n",
        "The output of your code should be a 2 by 2 grid of subplots (see [`plt.subplots`](https://matplotlib.org/3.3.1/api/_as_gen/matplotlib.pyplot.subplots.html) or [`plt.subplot`](https://matplotlib.org/3.3.1/api/_as_gen/matplotlib.pyplot.subplot.html#matplotlib.pyplot.subplot)) where each plot visualizes the mdoel fitted using different polynomial degrees (see above), specifically degrees `[3, 5, 9, 15]` respectively.\n",
        "Each subplot should be given a reasonable title to identify what it represents.\n",
        "\n",
        "NOTE: It is perfectly normal if the graph looks crazy for high degrees of polynomial choice."
      ]
    },
    {
      "cell_type": "code",
      "metadata": {
        "id": "-kmPdZCA0uRl",
        "colab": {
          "base_uri": "https://localhost:8080/",
          "height": 297
        },
        "outputId": "a6f0fe87-42ef-432a-dcad-473cbf2aeb50"
      },
      "source": [
        "from sklearn.linear_model import LinearRegression\n",
        "from sklearn.pipeline import make_pipeline\n",
        "from sklearn.preprocessing import PolynomialFeatures\n",
        "\n",
        "xfit = np.linspace(0, 4*np.pi, 1000)\n",
        "\n",
        "####################         YOUR CODE         ####################\n",
        "degree=3\n",
        "estimator = make_pipeline(PolynomialFeatures(degree), LinearRegression())\n",
        "estimator.fit(x[:, np.newaxis], y)\n",
        "yfit1 = estimator.predict(xfit[:, np.newaxis])\n",
        "\n",
        "degree=5\n",
        "estimator = make_pipeline(PolynomialFeatures(degree), LinearRegression())\n",
        "estimator.fit(x[:, np.newaxis], y)\n",
        "yfit2 = estimator.predict(xfit[:, np.newaxis])\n",
        "\n",
        "degree=9\n",
        "estimator = make_pipeline(PolynomialFeatures(degree), LinearRegression())\n",
        "estimator.fit(x[:, np.newaxis], y)\n",
        "yfit3 = estimator.predict(xfit[:, np.newaxis])\n",
        "\n",
        "degree=15\n",
        "estimator = make_pipeline(PolynomialFeatures(degree), LinearRegression())\n",
        "estimator.fit(x[:, np.newaxis], y)\n",
        "yfit4 = estimator.predict(xfit[:, np.newaxis])\n",
        "\n",
        "fig, ax = plt.subplots(2, 2)\n",
        "\n",
        "ax[0, 0].plot(xfit, yfit1 , 'r')\n",
        "ax[0, 0].scatter(x, y)\n",
        "ax[0, 0].set(xlabel ='x', ylabel ='y')\n",
        "ax[0, 1].plot(xfit, yfit2, 'r')\n",
        "ax[0, 1].scatter(x, y)\n",
        "ax[0, 1].set(xlabel ='x', ylabel ='y')\n",
        "ax[1, 0].plot(xfit, yfit3, 'r')\n",
        "ax[1, 0].scatter(x, y)\n",
        "ax[1, 0].set(xlabel ='x', ylabel ='y')\n",
        "ax[1, 1].plot(xfit, yfit4, 'r')\n",
        "ax[1, 1].scatter(x, y)\n",
        "ax[1, 1].set(xlabel ='x', ylabel ='y')\n",
        "\n",
        "ax[0, 0].set_title(\"Regression for degree 3\")\n",
        "ax[0, 1].set_title(\"Regression for degree 5\")\n",
        "ax[1, 0].set_title(\"Regression for degree 9\")\n",
        "ax[1, 1].set_title(\"Regression for degree 15\")\n",
        "\n",
        "fig.tight_layout()\n",
        "####################         END CODE          ####################\n",
        "\n",
        "plt.show()"
      ],
      "execution_count": null,
      "outputs": [
        {
          "output_type": "display_data",
          "data": {
            "image/png": "[encoded data removed]",
            "text/plain": [
              "<Figure size 432x288 with 4 Axes>"
            ]
          },
          "metadata": {
            "needs_background": "light"
          }
        }
      ]
    },
    {
      "cell_type": "markdown",
      "metadata": {
        "id": "hQo234fDR7Kr"
      },
      "source": [
        "## Exercise 2: Visualizing KNN classifier on IRIS dataset\n",
        "In this exercise, you will use KNN classifier to do simple classification on [Iris dataset](https://en.wikipedia.org/wiki/Iris_flower_data_set)."
      ]
    },
    {
      "cell_type": "markdown",
      "metadata": {
        "id": "w8yWCVi2ykkg"
      },
      "source": [
        "### Task 1: Load the Iris dataset\n",
        "Iris dataset can be simply loaded by calling the function [`datasets.load_iris()`](https://scikit-learn.org/stable/modules/generated/sklearn.datasets.load_iris.html#sklearn.datasets.load_iris). \n",
        "Use the official documentation for this function to create variables that stores the following information:\n",
        "1.  `X`: stores the first two features.\n",
        "2.  `y`: stores all labels.\n",
        "3.  `feature_names`: the meaning for the first two features.\n",
        "4.  `target_names`: the meaning for each label."
      ]
    },
    {
      "cell_type": "code",
      "metadata": {
        "id": "B9gxpw29yudf",
        "colab": {
          "base_uri": "https://localhost:8080/"
        },
        "outputId": "95794421-8950-4e19-b979-38fcab3a609b"
      },
      "source": [
        "from sklearn import datasets\n",
        "\n",
        "####################         YOUR CODE         ####################\n",
        "\n",
        "iris = datasets.load_iris()\n",
        "X= iris.data[:, :2]\n",
        "y = iris.target\n",
        "feature_names = iris.feature_names\n",
        "feature_names = feature_names[0:2]\n",
        "target_names = iris.target_names\n",
        "####################         END CODE          ####################\n",
        "\n",
        "print(f'X has the shape {X.shape}')\n",
        "print(f'y has the shape {y.shape}')\n",
        "print(f'X has features: {feature_names}')\n",
        "print(f'y has labels: {target_names}')"
      ],
      "execution_count": null,
      "outputs": [
        {
          "output_type": "stream",
          "name": "stdout",
          "text": [
            "X has the shape (150, 2)\n",
            "y has the shape (150,)\n",
            "X has features: ['sepal length (cm)', 'sepal width (cm)']\n",
            "y has labels: ['setosa' 'versicolor' 'virginica']\n"
          ]
        }
      ]
    },
    {
      "cell_type": "markdown",
      "metadata": {
        "id": "1AFMXjBdyyKw"
      },
      "source": [
        "### Task 2: Train and visualize KNN classfier\n",
        "1. Setup and train the KNN classifier with K=15. (See instructions)\n",
        "2. See examples [here](http://rasbt.github.io/mlxtend/user_guide/plotting/plot_decision_regions/) and use `plot_decision_regions()` to visualize the decision boundary for trained classifier. Be sure to name the axis with corresponding name of the feature.\n"
      ]
    },
    {
      "cell_type": "code",
      "metadata": {
        "id": "jc2X4HhAy2qN",
        "colab": {
          "base_uri": "https://localhost:8080/",
          "height": 366
        },
        "outputId": "eb84eb0a-1544-4078-f037-730e8198fdcb"
      },
      "source": [
        "import matplotlib.pyplot as plt\n",
        "from sklearn.neighbors import KNeighborsClassifier\n",
        "from mlxtend.plotting import plot_decision_regions\n",
        "####################         YOUR CODE         ####################\n",
        "neigh = KNeighborsClassifier(n_neighbors=15)\n",
        "neigh.fit(X, y)\n",
        "\n",
        "train_score = neigh.score(X, y)\n",
        "print(\"train_score:\", train_score)\n",
        "plot_decision_regions(X, y, clf = neigh, legend=2)\n",
        "plt.xlabel('sepal length [cm]')\n",
        "plt.ylabel('sepal width [cm]')\n",
        "plt.title('KNN on Iris')\n",
        "####################         END CODE          ####################\n",
        "plt.show()"
      ],
      "execution_count": null,
      "outputs": [
        {
          "output_type": "stream",
          "name": "stdout",
          "text": [
            "train_score: 0.8066666666666666\n"
          ]
        },
        {
          "output_type": "stream",
          "name": "stderr",
          "text": [
            "/usr/local/lib/python3.7/dist-packages/mlxtend/plotting/decision_regions.py:244: MatplotlibDeprecationWarning: Passing unsupported keyword arguments to axis() will raise a TypeError in 3.3.\n",
            "  ax.axis(xmin=xx.min(), xmax=xx.max(), y_min=yy.min(), y_max=yy.max())\n"
          ]
        },
        {
          "output_type": "display_data",
          "data": {
            "image/png": "[encoded data removed]",
            "text/plain": [
              "<Figure size 432x288 with 1 Axes>"
            ]
          },
          "metadata": {
            "needs_background": "light"
          }
        }
      ]
    },
    {
      "cell_type": "markdown",
      "metadata": {
        "id": "kBSX7VY10uvp"
      },
      "source": [
        "## Exercise 3: KNN classifier on credit fraud dataset\n",
        "In this exercise, you will use K-nearest-neighbor method to create a model that is able to detect potential credit card fraud.\n",
        "\n",
        "### Task 1: Mount your drive\n",
        "Follow the step on the instructions and mount your google drive on Colab which allows to access the .csv file uploaded on your drive that was included with this assignment."
      ]
    },
    {
      "cell_type": "code",
      "metadata": {
        "id": "XLFvC76d6R6D",
        "colab": {
          "base_uri": "https://localhost:8080/"
        },
        "outputId": "daf27ac2-6809-4d3e-a0b6-993d8580c1c0"
      },
      "source": [
        "from google.colab import drive\n",
        "drive.mount('/content/drive')"
      ],
      "execution_count": null,
      "outputs": [
        {
          "output_type": "stream",
          "name": "stdout",
          "text": [
            "Mounted at /content/drive\n"
          ]
        }
      ]
    },
    {
      "cell_type": "markdown",
      "metadata": {
        "id": "x3IBAYTlaWLD"
      },
      "source": [
        "### Task 2: Load and preprocess datasets\n",
        "In this program we are using a dataset that has the following features:  \n",
        "\n",
        "V1 | V1 | ... | V10 | Amount | Class \n",
        "---|---|---|---|---|---\n",
        "(float)|(float)|(float)|(float)|(float)|(str)\n",
        "\n",
        "The first ten features are the top PCA values for certain transaction information. The reason only PCA values are given is to protect private information.\n",
        "The **Amount** feature is the amount of money in that particular transaction and the **Class** feature contains two classes **safe** and **Fraud**.\n",
        "Each class has 400 examples, your task is to predict the **Class** feature from all the other features, i.e. determine which transactions are fraudulent or not.\n",
        "\n",
        "1. Load the given .csv file to the variable **data**.\n",
        "2. Create **X** from **data** simply by dropping the last column (which will be our **y**) of the pandas dataframe, and create **y** by selecting the last column of the pandas data frame.\n",
        "3. Use appropriate transform function to preprocess **X** and **y** respectively.\n",
        "4. Create the training and test set with 20% of the data be the test data and set the `random_state` to `0`."
      ]
    },
    {
      "cell_type": "code",
      "metadata": {
        "id": "sKIMALaKaWh-",
        "colab": {
          "base_uri": "https://localhost:8080/"
        },
        "outputId": "e127a195-4cc3-40f9-aa9a-fe10aaaa1b3a"
      },
      "source": [
        "import pandas as pd\n",
        "from sklearn.model_selection import train_test_split\n",
        "from sklearn.preprocessing import StandardScaler, LabelEncoder\n",
        "\n",
        "####################         YOUR CODE         ####################\n",
        "data = pd.read_csv(\"/content/drive/MyDrive/Colab Notebooks/ECE570_3/creditcard_ece570.csv\")\n",
        "X = data.drop(['Class'], axis=1)\n",
        "y= data['Class']\n",
        "X_train, X_test, y_train, y_test = train_test_split(X,y,test_size=0.2, random_state=0)\n",
        "\n",
        "scalar = StandardScaler()\n",
        "labeler = LabelEncoder()\n",
        "scalar.fit(X_train)  \n",
        "labeler.fit(y_train)\n",
        "X_train = scalar.transform(X_train)\n",
        "X_test = scalar.transform(X_test)\n",
        "y_train = labeler.transform(y_train)\n",
        "y_test = labeler.transform(y_test)\n",
        "####################         END CODE          ####################\n",
        "print(f'X_train has the shape {X_train.shape}')\n",
        "print(f'y_train has the shape {y_train.shape}')\n",
        "print(f'X_test has the shape {X_test.shape}')\n",
        "print(f'y_test has the shape {y_test.shape}')\n",
        "print(f'X_train mean is: \\n{np.mean(X_train, axis=0)}')\n",
        "print(f'X_test mean is: \\n{np.mean(X_test, axis=0)}')"
      ],
      "execution_count": null,
      "outputs": [
        {
          "output_type": "stream",
          "name": "stdout",
          "text": [
            "X_train has the shape (640, 11)\n",
            "y_train has the shape (640,)\n",
            "X_test has the shape (160, 11)\n",
            "y_test has the shape (160,)\n",
            "X_train mean is: \n",
            "[ 4.02455846e-17 -1.38777878e-17  3.19189120e-17  1.66533454e-17\n",
            "  1.94289029e-17  1.24900090e-17 -3.67761377e-17 -1.66533454e-17\n",
            " -3.46944695e-17  9.92261828e-17  7.63278329e-18]\n",
            "X_test mean is: \n",
            "[ 0.09347451 -0.09182168  0.15245938 -0.19522097  0.10599188  0.23410519\n",
            "  0.09620048 -0.19714382  0.18255422  0.17135069  0.12558944]\n"
          ]
        }
      ]
    },
    {
      "cell_type": "markdown",
      "metadata": {
        "id": "Jq90js1DaXN3"
      },
      "source": [
        "### Task 3: Find the optimal KNN estimator\n",
        "We need to find the optimal parameters of the KNN estimator (the model selection problem) using cross validation, and then provide a final estimate of the model's generalization performance via the test set.\n",
        "1. Do a grid search (using the `GridSearchCV` estimator from scikit-learn) to optimize the following hyperparameters for KNN (use estimator `KNeighborsClassifier`) and name your gridsearch object `KNN_GV`:\n",
        "  * The number of neighbors `n_neighbors`\n",
        "  * Type of weights considered `weights`\n",
        "  * Type of distance considered `metric`\n",
        "See [here](https://scikit-learn.org/stable/modules/generated/sklearn.neighbors.KNeighborsClassifier.html) for possible options for those hyperparameters.\n",
        "2. Fit your gridsearch by specifying the number of folds to 5. (Note: Pass only your training dataset into the `fit` function so that the model selection process doesn't see your test dataset.  `GridSearchCV` will take care of doing cross validation on the training dataset.)\n",
        "3. Print your best parameters combo (`best_params_`) attribute of KN and the corresponding score on the train and test set."
      ]
    },
    {
      "cell_type": "code",
      "metadata": {
        "id": "DPRzH6CuaXWI",
        "colab": {
          "base_uri": "https://localhost:8080/"
        },
        "outputId": "e001821f-ed93-4c01-b350-870386f2e677"
      },
      "source": [
        "from sklearn.neighbors import KNeighborsClassifier\n",
        "from sklearn.model_selection import GridSearchCV\n",
        "\n",
        "####################         YOUR CODE         ####################\n",
        "grid_params = {\n",
        "    'n_neighbors': [1,3,5,7,9,11],\n",
        "    'weights':['uniform','distance'],\n",
        "    'metric': ['euclidean', 'manhattan', 'chebyshev']\n",
        "}\n",
        "\n",
        "KNN_GV = GridSearchCV(KNeighborsClassifier(), grid_params, cv = 5 )\n",
        "\n",
        "result = KNN_GV.fit(X_train, y_train)\n",
        "\n",
        "####################         END CODE          ####################\n",
        "print(f'The best parameters are {KNN_GV.best_params_}')\n",
        "print(f'The best accuracy on the training data is {KNN_GV.score(X_train, y_train)}')\n",
        "print(f'The best accuracy on the testing data is {KNN_GV.score(X_test, y_test)}')"
      ],
      "execution_count": null,
      "outputs": [
        {
          "output_type": "stream",
          "name": "stdout",
          "text": [
            "The best parameters are {'metric': 'manhattan', 'n_neighbors': 7, 'weights': 'uniform'}\n",
            "The best accuracy on the training data is 0.953125\n",
            "The best accuracy on the testing data is 0.90625\n"
          ]
        }
      ]
    },
    {
      "cell_type": "markdown",
      "metadata": {
        "id": "snekAfkAqMwf"
      },
      "source": [
        "### Just for fun: Try out different classifiers in scikit-learn to see if you can beat the test set performance of KNN on this dataset\n",
        "(Please do not include this optional activity in your submission to simplify grading.)\n",
        "\n",
        "There are many other classifiers in scikit-learn.  A really cool example of many standard classifiers can be seen in the following image from the scikit-learn example on comparing classifiers: https://scikit-learn.org/stable/auto_examples/classification/plot_classifier_comparison.html:\n",
        "\n",
        "<img src=\"https://scikit-learn.org/stable/_images/sphx_glr_plot_classifier_comparison_001.png\" />\n"
      ]
    }
  ]
}
