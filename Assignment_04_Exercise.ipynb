{
  "nbformat": 4,
  "nbformat_minor": 0,
  "metadata": {
    "colab": {
      "name": "Assignment_04_Exercise.ipynb",
      "provenance": [],
      "collapsed_sections": [],
      "include_colab_link": true
    },
    "kernelspec": {
      "display_name": "Python 3",
      "language": "python",
      "name": "python3"
    },
    "language_info": {
      "codemirror_mode": {
        "name": "ipython",
        "version": 3
      },
      "file_extension": ".py",
      "mimetype": "text/x-python",
      "name": "python",
      "nbconvert_exporter": "python",
      "pygments_lexer": "ipython3",
      "version": "3.8.8"
    },
    "widgets": {
      "application/vnd.jupyter.widget-state+json": {
        "c0026c80185341c592f684879ba304e7": {
          "model_module": "@jupyter-widgets/controls",
          "model_name": "HBoxModel",
          "model_module_version": "1.5.0",
          "state": {
            "_view_name": "HBoxView",
            "_dom_classes": [],
            "_model_name": "HBoxModel",
            "_view_module": "@jupyter-widgets/controls",
            "_model_module_version": "1.5.0",
            "_view_count": null,
            "_view_module_version": "1.5.0",
            "box_style": "",
            "layout": "IPY_MODEL_13d3738726bb4ea783d8be415e42ed99",
            "_model_module": "@jupyter-widgets/controls",
            "children": [
              "IPY_MODEL_a4520510e29c47e1aae0e87b65a5d2b1",
              "IPY_MODEL_83e8e0d063674de19db7f9eb514e556f",
              "IPY_MODEL_00560bbcd9f84e17a6a1e0774b86407f"
            ]
          }
        },
        "13d3738726bb4ea783d8be415e42ed99": {
          "model_module": "@jupyter-widgets/base",
          "model_name": "LayoutModel",
          "model_module_version": "1.2.0",
          "state": {
            "_view_name": "LayoutView",
            "grid_template_rows": null,
            "right": null,
            "justify_content": null,
            "_view_module": "@jupyter-widgets/base",
            "overflow": null,
            "_model_module_version": "1.2.0",
            "_view_count": null,
            "flex_flow": null,
            "width": null,
            "min_width": null,
            "border": null,
            "align_items": null,
            "bottom": null,
            "_model_module": "@jupyter-widgets/base",
            "top": null,
            "grid_column": null,
            "overflow_y": null,
            "overflow_x": null,
            "grid_auto_flow": null,
            "grid_area": null,
            "grid_template_columns": null,
            "flex": null,
            "_model_name": "LayoutModel",
            "justify_items": null,
            "grid_row": null,
            "max_height": null,
            "align_content": null,
            "visibility": null,
            "align_self": null,
            "height": null,
            "min_height": null,
            "padding": null,
            "grid_auto_rows": null,
            "grid_gap": null,
            "max_width": null,
            "order": null,
            "_view_module_version": "1.2.0",
            "grid_template_areas": null,
            "object_position": null,
            "object_fit": null,
            "grid_auto_columns": null,
            "margin": null,
            "display": null,
            "left": null
          }
        },
        "a4520510e29c47e1aae0e87b65a5d2b1": {
          "model_module": "@jupyter-widgets/controls",
          "model_name": "HTMLModel",
          "model_module_version": "1.5.0",
          "state": {
            "_view_name": "HTMLView",
            "style": "IPY_MODEL_027011eaa83f455383d5dd21b356a1a8",
            "_dom_classes": [],
            "description": "",
            "_model_name": "HTMLModel",
            "placeholder": "​",
            "_view_module": "@jupyter-widgets/controls",
            "_model_module_version": "1.5.0",
            "value": "",
            "_view_count": null,
            "_view_module_version": "1.5.0",
            "description_tooltip": null,
            "_model_module": "@jupyter-widgets/controls",
            "layout": "IPY_MODEL_99126934ee02435d9a50e7acb982bc9c"
          }
        },
        "83e8e0d063674de19db7f9eb514e556f": {
          "model_module": "@jupyter-widgets/controls",
          "model_name": "FloatProgressModel",
          "model_module_version": "1.5.0",
          "state": {
            "_view_name": "ProgressView",
            "style": "IPY_MODEL_0a356370698749d597a12ad45bdcdaf7",
            "_dom_classes": [],
            "description": "",
            "_model_name": "FloatProgressModel",
            "bar_style": "success",
            "max": 9912422,
            "_view_module": "@jupyter-widgets/controls",
            "_model_module_version": "1.5.0",
            "value": 9912422,
            "_view_count": null,
            "_view_module_version": "1.5.0",
            "orientation": "horizontal",
            "min": 0,
            "description_tooltip": null,
            "_model_module": "@jupyter-widgets/controls",
            "layout": "IPY_MODEL_2124b32cdd7f4188ac7c26e8ce84f1d7"
          }
        },
        "00560bbcd9f84e17a6a1e0774b86407f": {
          "model_module": "@jupyter-widgets/controls",
          "model_name": "HTMLModel",
          "model_module_version": "1.5.0",
          "state": {
            "_view_name": "HTMLView",
            "style": "IPY_MODEL_3c9410f8ae4f43f583a241e3f2ac1123",
            "_dom_classes": [],
            "description": "",
            "_model_name": "HTMLModel",
            "placeholder": "​",
            "_view_module": "@jupyter-widgets/controls",
            "_model_module_version": "1.5.0",
            "value": " 9913344/? [00:00&lt;00:00, 49463672.81it/s]",
            "_view_count": null,
            "_view_module_version": "1.5.0",
            "description_tooltip": null,
            "_model_module": "@jupyter-widgets/controls",
            "layout": "IPY_MODEL_d268eee641aa4edc9e1a8b968592bd80"
          }
        },
        "027011eaa83f455383d5dd21b356a1a8": {
          "model_module": "@jupyter-widgets/controls",
          "model_name": "DescriptionStyleModel",
          "model_module_version": "1.5.0",
          "state": {
            "_view_name": "StyleView",
            "_model_name": "DescriptionStyleModel",
            "description_width": "",
            "_view_module": "@jupyter-widgets/base",
            "_model_module_version": "1.5.0",
            "_view_count": null,
            "_view_module_version": "1.2.0",
            "_model_module": "@jupyter-widgets/controls"
          }
        },
        "99126934ee02435d9a50e7acb982bc9c": {
          "model_module": "@jupyter-widgets/base",
          "model_name": "LayoutModel",
          "model_module_version": "1.2.0",
          "state": {
            "_view_name": "LayoutView",
            "grid_template_rows": null,
            "right": null,
            "justify_content": null,
            "_view_module": "@jupyter-widgets/base",
            "overflow": null,
            "_model_module_version": "1.2.0",
            "_view_count": null,
            "flex_flow": null,
            "width": null,
            "min_width": null,
            "border": null,
            "align_items": null,
            "bottom": null,
            "_model_module": "@jupyter-widgets/base",
            "top": null,
            "grid_column": null,
            "overflow_y": null,
            "overflow_x": null,
            "grid_auto_flow": null,
            "grid_area": null,
            "grid_template_columns": null,
            "flex": null,
            "_model_name": "LayoutModel",
            "justify_items": null,
            "grid_row": null,
            "max_height": null,
            "align_content": null,
            "visibility": null,
            "align_self": null,
            "height": null,
            "min_height": null,
            "padding": null,
            "grid_auto_rows": null,
            "grid_gap": null,
            "max_width": null,
            "order": null,
            "_view_module_version": "1.2.0",
            "grid_template_areas": null,
            "object_position": null,
            "object_fit": null,
            "grid_auto_columns": null,
            "margin": null,
            "display": null,
            "left": null
          }
        },
        "0a356370698749d597a12ad45bdcdaf7": {
          "model_module": "@jupyter-widgets/controls",
          "model_name": "ProgressStyleModel",
          "model_module_version": "1.5.0",
          "state": {
            "_view_name": "StyleView",
            "_model_name": "ProgressStyleModel",
            "description_width": "",
            "_view_module": "@jupyter-widgets/base",
            "_model_module_version": "1.5.0",
            "_view_count": null,
            "_view_module_version": "1.2.0",
            "bar_color": null,
            "_model_module": "@jupyter-widgets/controls"
          }
        },
        "2124b32cdd7f4188ac7c26e8ce84f1d7": {
          "model_module": "@jupyter-widgets/base",
          "model_name": "LayoutModel",
          "model_module_version": "1.2.0",
          "state": {
            "_view_name": "LayoutView",
            "grid_template_rows": null,
            "right": null,
            "justify_content": null,
            "_view_module": "@jupyter-widgets/base",
            "overflow": null,
            "_model_module_version": "1.2.0",
            "_view_count": null,
            "flex_flow": null,
            "width": null,
            "min_width": null,
            "border": null,
            "align_items": null,
            "bottom": null,
            "_model_module": "@jupyter-widgets/base",
            "top": null,
            "grid_column": null,
            "overflow_y": null,
            "overflow_x": null,
            "grid_auto_flow": null,
            "grid_area": null,
            "grid_template_columns": null,
            "flex": null,
            "_model_name": "LayoutModel",
            "justify_items": null,
            "grid_row": null,
            "max_height": null,
            "align_content": null,
            "visibility": null,
            "align_self": null,
            "height": null,
            "min_height": null,
            "padding": null,
            "grid_auto_rows": null,
            "grid_gap": null,
            "max_width": null,
            "order": null,
            "_view_module_version": "1.2.0",
            "grid_template_areas": null,
            "object_position": null,
            "object_fit": null,
            "grid_auto_columns": null,
            "margin": null,
            "display": null,
            "left": null
          }
        },
        "3c9410f8ae4f43f583a241e3f2ac1123": {
          "model_module": "@jupyter-widgets/controls",
          "model_name": "DescriptionStyleModel",
          "model_module_version": "1.5.0",
          "state": {
            "_view_name": "StyleView",
            "_model_name": "DescriptionStyleModel",
            "description_width": "",
            "_view_module": "@jupyter-widgets/base",
            "_model_module_version": "1.5.0",
            "_view_count": null,
            "_view_module_version": "1.2.0",
            "_model_module": "@jupyter-widgets/controls"
          }
        },
        "d268eee641aa4edc9e1a8b968592bd80": {
          "model_module": "@jupyter-widgets/base",
          "model_name": "LayoutModel",
          "model_module_version": "1.2.0",
          "state": {
            "_view_name": "LayoutView",
            "grid_template_rows": null,
            "right": null,
            "justify_content": null,
            "_view_module": "@jupyter-widgets/base",
            "overflow": null,
            "_model_module_version": "1.2.0",
            "_view_count": null,
            "flex_flow": null,
            "width": null,
            "min_width": null,
            "border": null,
            "align_items": null,
            "bottom": null,
            "_model_module": "@jupyter-widgets/base",
            "top": null,
            "grid_column": null,
            "overflow_y": null,
            "overflow_x": null,
            "grid_auto_flow": null,
            "grid_area": null,
            "grid_template_columns": null,
            "flex": null,
            "_model_name": "LayoutModel",
            "justify_items": null,
            "grid_row": null,
            "max_height": null,
            "align_content": null,
            "visibility": null,
            "align_self": null,
            "height": null,
            "min_height": null,
            "padding": null,
            "grid_auto_rows": null,
            "grid_gap": null,
            "max_width": null,
            "order": null,
            "_view_module_version": "1.2.0",
            "grid_template_areas": null,
            "object_position": null,
            "object_fit": null,
            "grid_auto_columns": null,
            "margin": null,
            "display": null,
            "left": null
          }
        },
        "40cf19378f434ad282078a4e9384e0a1": {
          "model_module": "@jupyter-widgets/controls",
          "model_name": "HBoxModel",
          "model_module_version": "1.5.0",
          "state": {
            "_view_name": "HBoxView",
            "_dom_classes": [],
            "_model_name": "HBoxModel",
            "_view_module": "@jupyter-widgets/controls",
            "_model_module_version": "1.5.0",
            "_view_count": null,
            "_view_module_version": "1.5.0",
            "box_style": "",
            "layout": "IPY_MODEL_9a3675e5166f4af7926bcd6f84cf2ab4",
            "_model_module": "@jupyter-widgets/controls",
            "children": [
              "IPY_MODEL_d9525fd2f195493983d885520eec96e0",
              "IPY_MODEL_c9c36401a75a4383ac54068f5b83d276",
              "IPY_MODEL_51697a75ac3e4d8ab1f8a4b7ba16c7e4"
            ]
          }
        },
        "9a3675e5166f4af7926bcd6f84cf2ab4": {
          "model_module": "@jupyter-widgets/base",
          "model_name": "LayoutModel",
          "model_module_version": "1.2.0",
          "state": {
            "_view_name": "LayoutView",
            "grid_template_rows": null,
            "right": null,
            "justify_content": null,
            "_view_module": "@jupyter-widgets/base",
            "overflow": null,
            "_model_module_version": "1.2.0",
            "_view_count": null,
            "flex_flow": null,
            "width": null,
            "min_width": null,
            "border": null,
            "align_items": null,
            "bottom": null,
            "_model_module": "@jupyter-widgets/base",
            "top": null,
            "grid_column": null,
            "overflow_y": null,
            "overflow_x": null,
            "grid_auto_flow": null,
            "grid_area": null,
            "grid_template_columns": null,
            "flex": null,
            "_model_name": "LayoutModel",
            "justify_items": null,
            "grid_row": null,
            "max_height": null,
            "align_content": null,
            "visibility": null,
            "align_self": null,
            "height": null,
            "min_height": null,
            "padding": null,
            "grid_auto_rows": null,
            "grid_gap": null,
            "max_width": null,
            "order": null,
            "_view_module_version": "1.2.0",
            "grid_template_areas": null,
            "object_position": null,
            "object_fit": null,
            "grid_auto_columns": null,
            "margin": null,
            "display": null,
            "left": null
          }
        },
        "d9525fd2f195493983d885520eec96e0": {
          "model_module": "@jupyter-widgets/controls",
          "model_name": "HTMLModel",
          "model_module_version": "1.5.0",
          "state": {
            "_view_name": "HTMLView",
            "style": "IPY_MODEL_332d106426714308849a3f12517f7f71",
            "_dom_classes": [],
            "description": "",
            "_model_name": "HTMLModel",
            "placeholder": "​",
            "_view_module": "@jupyter-widgets/controls",
            "_model_module_version": "1.5.0",
            "value": "",
            "_view_count": null,
            "_view_module_version": "1.5.0",
            "description_tooltip": null,
            "_model_module": "@jupyter-widgets/controls",
            "layout": "IPY_MODEL_da44c5a2a57a47b8acb33fe0122f75d8"
          }
        },
        "c9c36401a75a4383ac54068f5b83d276": {
          "model_module": "@jupyter-widgets/controls",
          "model_name": "FloatProgressModel",
          "model_module_version": "1.5.0",
          "state": {
            "_view_name": "ProgressView",
            "style": "IPY_MODEL_1492a4eec0514289bb69db843801f0b3",
            "_dom_classes": [],
            "description": "",
            "_model_name": "FloatProgressModel",
            "bar_style": "success",
            "max": 28881,
            "_view_module": "@jupyter-widgets/controls",
            "_model_module_version": "1.5.0",
            "value": 28881,
            "_view_count": null,
            "_view_module_version": "1.5.0",
            "orientation": "horizontal",
            "min": 0,
            "description_tooltip": null,
            "_model_module": "@jupyter-widgets/controls",
            "layout": "IPY_MODEL_857d058173d146bb8cd8797771c189db"
          }
        },
        "51697a75ac3e4d8ab1f8a4b7ba16c7e4": {
          "model_module": "@jupyter-widgets/controls",
          "model_name": "HTMLModel",
          "model_module_version": "1.5.0",
          "state": {
            "_view_name": "HTMLView",
            "style": "IPY_MODEL_79ed4d60b67c49e9bfb1b20e710fab66",
            "_dom_classes": [],
            "description": "",
            "_model_name": "HTMLModel",
            "placeholder": "​",
            "_view_module": "@jupyter-widgets/controls",
            "_model_module_version": "1.5.0",
            "value": " 29696/? [00:00&lt;00:00, 845007.13it/s]",
            "_view_count": null,
            "_view_module_version": "1.5.0",
            "description_tooltip": null,
            "_model_module": "@jupyter-widgets/controls",
            "layout": "IPY_MODEL_557d52c9a06c485099816ed9cec5013c"
          }
        },
        "332d106426714308849a3f12517f7f71": {
          "model_module": "@jupyter-widgets/controls",
          "model_name": "DescriptionStyleModel",
          "model_module_version": "1.5.0",
          "state": {
            "_view_name": "StyleView",
            "_model_name": "DescriptionStyleModel",
            "description_width": "",
            "_view_module": "@jupyter-widgets/base",
            "_model_module_version": "1.5.0",
            "_view_count": null,
            "_view_module_version": "1.2.0",
            "_model_module": "@jupyter-widgets/controls"
          }
        },
        "da44c5a2a57a47b8acb33fe0122f75d8": {
          "model_module": "@jupyter-widgets/base",
          "model_name": "LayoutModel",
          "model_module_version": "1.2.0",
          "state": {
            "_view_name": "LayoutView",
            "grid_template_rows": null,
            "right": null,
            "justify_content": null,
            "_view_module": "@jupyter-widgets/base",
            "overflow": null,
            "_model_module_version": "1.2.0",
            "_view_count": null,
            "flex_flow": null,
            "width": null,
            "min_width": null,
            "border": null,
            "align_items": null,
            "bottom": null,
            "_model_module": "@jupyter-widgets/base",
            "top": null,
            "grid_column": null,
            "overflow_y": null,
            "overflow_x": null,
            "grid_auto_flow": null,
            "grid_area": null,
            "grid_template_columns": null,
            "flex": null,
            "_model_name": "LayoutModel",
            "justify_items": null,
            "grid_row": null,
            "max_height": null,
            "align_content": null,
            "visibility": null,
            "align_self": null,
            "height": null,
            "min_height": null,
            "padding": null,
            "grid_auto_rows": null,
            "grid_gap": null,
            "max_width": null,
            "order": null,
            "_view_module_version": "1.2.0",
            "grid_template_areas": null,
            "object_position": null,
            "object_fit": null,
            "grid_auto_columns": null,
            "margin": null,
            "display": null,
            "left": null
          }
        },
        "1492a4eec0514289bb69db843801f0b3": {
          "model_module": "@jupyter-widgets/controls",
          "model_name": "ProgressStyleModel",
          "model_module_version": "1.5.0",
          "state": {
            "_view_name": "StyleView",
            "_model_name": "ProgressStyleModel",
            "description_width": "",
            "_view_module": "@jupyter-widgets/base",
            "_model_module_version": "1.5.0",
            "_view_count": null,
            "_view_module_version": "1.2.0",
            "bar_color": null,
            "_model_module": "@jupyter-widgets/controls"
          }
        },
        "857d058173d146bb8cd8797771c189db": {
          "model_module": "@jupyter-widgets/base",
          "model_name": "LayoutModel",
          "model_module_version": "1.2.0",
          "state": {
            "_view_name": "LayoutView",
            "grid_template_rows": null,
            "right": null,
            "justify_content": null,
            "_view_module": "@jupyter-widgets/base",
            "overflow": null,
            "_model_module_version": "1.2.0",
            "_view_count": null,
            "flex_flow": null,
            "width": null,
            "min_width": null,
            "border": null,
            "align_items": null,
            "bottom": null,
            "_model_module": "@jupyter-widgets/base",
            "top": null,
            "grid_column": null,
            "overflow_y": null,
            "overflow_x": null,
            "grid_auto_flow": null,
            "grid_area": null,
            "grid_template_columns": null,
            "flex": null,
            "_model_name": "LayoutModel",
            "justify_items": null,
            "grid_row": null,
            "max_height": null,
            "align_content": null,
            "visibility": null,
            "align_self": null,
            "height": null,
            "min_height": null,
            "padding": null,
            "grid_auto_rows": null,
            "grid_gap": null,
            "max_width": null,
            "order": null,
            "_view_module_version": "1.2.0",
            "grid_template_areas": null,
            "object_position": null,
            "object_fit": null,
            "grid_auto_columns": null,
            "margin": null,
            "display": null,
            "left": null
          }
        },
        "79ed4d60b67c49e9bfb1b20e710fab66": {
          "model_module": "@jupyter-widgets/controls",
          "model_name": "DescriptionStyleModel",
          "model_module_version": "1.5.0",
          "state": {
            "_view_name": "StyleView",
            "_model_name": "DescriptionStyleModel",
            "description_width": "",
            "_view_module": "@jupyter-widgets/base",
            "_model_module_version": "1.5.0",
            "_view_count": null,
            "_view_module_version": "1.2.0",
            "_model_module": "@jupyter-widgets/controls"
          }
        },
        "557d52c9a06c485099816ed9cec5013c": {
          "model_module": "@jupyter-widgets/base",
          "model_name": "LayoutModel",
          "model_module_version": "1.2.0",
          "state": {
            "_view_name": "LayoutView",
            "grid_template_rows": null,
            "right": null,
            "justify_content": null,
            "_view_module": "@jupyter-widgets/base",
            "overflow": null,
            "_model_module_version": "1.2.0",
            "_view_count": null,
            "flex_flow": null,
            "width": null,
            "min_width": null,
            "border": null,
            "align_items": null,
            "bottom": null,
            "_model_module": "@jupyter-widgets/base",
            "top": null,
            "grid_column": null,
            "overflow_y": null,
            "overflow_x": null,
            "grid_auto_flow": null,
            "grid_area": null,
            "grid_template_columns": null,
            "flex": null,
            "_model_name": "LayoutModel",
            "justify_items": null,
            "grid_row": null,
            "max_height": null,
            "align_content": null,
            "visibility": null,
            "align_self": null,
            "height": null,
            "min_height": null,
            "padding": null,
            "grid_auto_rows": null,
            "grid_gap": null,
            "max_width": null,
            "order": null,
            "_view_module_version": "1.2.0",
            "grid_template_areas": null,
            "object_position": null,
            "object_fit": null,
            "grid_auto_columns": null,
            "margin": null,
            "display": null,
            "left": null
          }
        },
        "b7e84fa02c254918997cb72436552c6d": {
          "model_module": "@jupyter-widgets/controls",
          "model_name": "HBoxModel",
          "model_module_version": "1.5.0",
          "state": {
            "_view_name": "HBoxView",
            "_dom_classes": [],
            "_model_name": "HBoxModel",
            "_view_module": "@jupyter-widgets/controls",
            "_model_module_version": "1.5.0",
            "_view_count": null,
            "_view_module_version": "1.5.0",
            "box_style": "",
            "layout": "IPY_MODEL_7348abee45474cc7a36c824cab38d7e2",
            "_model_module": "@jupyter-widgets/controls",
            "children": [
              "IPY_MODEL_bdc1fcc81c7f4c6fb23daca04fbb0df2",
              "IPY_MODEL_ac979a86d42647569ec30a5de3f8d422",
              "IPY_MODEL_b1cd3b195579476fb74e17cecba0a37e"
            ]
          }
        },
        "7348abee45474cc7a36c824cab38d7e2": {
          "model_module": "@jupyter-widgets/base",
          "model_name": "LayoutModel",
          "model_module_version": "1.2.0",
          "state": {
            "_view_name": "LayoutView",
            "grid_template_rows": null,
            "right": null,
            "justify_content": null,
            "_view_module": "@jupyter-widgets/base",
            "overflow": null,
            "_model_module_version": "1.2.0",
            "_view_count": null,
            "flex_flow": null,
            "width": null,
            "min_width": null,
            "border": null,
            "align_items": null,
            "bottom": null,
            "_model_module": "@jupyter-widgets/base",
            "top": null,
            "grid_column": null,
            "overflow_y": null,
            "overflow_x": null,
            "grid_auto_flow": null,
            "grid_area": null,
            "grid_template_columns": null,
            "flex": null,
            "_model_name": "LayoutModel",
            "justify_items": null,
            "grid_row": null,
            "max_height": null,
            "align_content": null,
            "visibility": null,
            "align_self": null,
            "height": null,
            "min_height": null,
            "padding": null,
            "grid_auto_rows": null,
            "grid_gap": null,
            "max_width": null,
            "order": null,
            "_view_module_version": "1.2.0",
            "grid_template_areas": null,
            "object_position": null,
            "object_fit": null,
            "grid_auto_columns": null,
            "margin": null,
            "display": null,
            "left": null
          }
        },
        "bdc1fcc81c7f4c6fb23daca04fbb0df2": {
          "model_module": "@jupyter-widgets/controls",
          "model_name": "HTMLModel",
          "model_module_version": "1.5.0",
          "state": {
            "_view_name": "HTMLView",
            "style": "IPY_MODEL_36fd41a1787a4328a06229d09f32e070",
            "_dom_classes": [],
            "description": "",
            "_model_name": "HTMLModel",
            "placeholder": "​",
            "_view_module": "@jupyter-widgets/controls",
            "_model_module_version": "1.5.0",
            "value": "",
            "_view_count": null,
            "_view_module_version": "1.5.0",
            "description_tooltip": null,
            "_model_module": "@jupyter-widgets/controls",
            "layout": "IPY_MODEL_cd54d40631c8469ebdeca3aabd3b0532"
          }
        },
        "ac979a86d42647569ec30a5de3f8d422": {
          "model_module": "@jupyter-widgets/controls",
          "model_name": "FloatProgressModel",
          "model_module_version": "1.5.0",
          "state": {
            "_view_name": "ProgressView",
            "style": "IPY_MODEL_f5b937ba69b44aef89820ea2fb4e734a",
            "_dom_classes": [],
            "description": "",
            "_model_name": "FloatProgressModel",
            "bar_style": "success",
            "max": 1648877,
            "_view_module": "@jupyter-widgets/controls",
            "_model_module_version": "1.5.0",
            "value": 1648877,
            "_view_count": null,
            "_view_module_version": "1.5.0",
            "orientation": "horizontal",
            "min": 0,
            "description_tooltip": null,
            "_model_module": "@jupyter-widgets/controls",
            "layout": "IPY_MODEL_1b0ed93f2fdb461eb01747bf1e84174c"
          }
        },
        "b1cd3b195579476fb74e17cecba0a37e": {
          "model_module": "@jupyter-widgets/controls",
          "model_name": "HTMLModel",
          "model_module_version": "1.5.0",
          "state": {
            "_view_name": "HTMLView",
            "style": "IPY_MODEL_70fd2b2da1674dc3bd318444500f2fd7",
            "_dom_classes": [],
            "description": "",
            "_model_name": "HTMLModel",
            "placeholder": "​",
            "_view_module": "@jupyter-widgets/controls",
            "_model_module_version": "1.5.0",
            "value": " 1649664/? [00:00&lt;00:00, 17394870.21it/s]",
            "_view_count": null,
            "_view_module_version": "1.5.0",
            "description_tooltip": null,
            "_model_module": "@jupyter-widgets/controls",
            "layout": "IPY_MODEL_d1ee1ecd73cc415b9327151c575031c4"
          }
        },
        "36fd41a1787a4328a06229d09f32e070": {
          "model_module": "@jupyter-widgets/controls",
          "model_name": "DescriptionStyleModel",
          "model_module_version": "1.5.0",
          "state": {
            "_view_name": "StyleView",
            "_model_name": "DescriptionStyleModel",
            "description_width": "",
            "_view_module": "@jupyter-widgets/base",
            "_model_module_version": "1.5.0",
            "_view_count": null,
            "_view_module_version": "1.2.0",
            "_model_module": "@jupyter-widgets/controls"
          }
        },
        "cd54d40631c8469ebdeca3aabd3b0532": {
          "model_module": "@jupyter-widgets/base",
          "model_name": "LayoutModel",
          "model_module_version": "1.2.0",
          "state": {
            "_view_name": "LayoutView",
            "grid_template_rows": null,
            "right": null,
            "justify_content": null,
            "_view_module": "@jupyter-widgets/base",
            "overflow": null,
            "_model_module_version": "1.2.0",
            "_view_count": null,
            "flex_flow": null,
            "width": null,
            "min_width": null,
            "border": null,
            "align_items": null,
            "bottom": null,
            "_model_module": "@jupyter-widgets/base",
            "top": null,
            "grid_column": null,
            "overflow_y": null,
            "overflow_x": null,
            "grid_auto_flow": null,
            "grid_area": null,
            "grid_template_columns": null,
            "flex": null,
            "_model_name": "LayoutModel",
            "justify_items": null,
            "grid_row": null,
            "max_height": null,
            "align_content": null,
            "visibility": null,
            "align_self": null,
            "height": null,
            "min_height": null,
            "padding": null,
            "grid_auto_rows": null,
            "grid_gap": null,
            "max_width": null,
            "order": null,
            "_view_module_version": "1.2.0",
            "grid_template_areas": null,
            "object_position": null,
            "object_fit": null,
            "grid_auto_columns": null,
            "margin": null,
            "display": null,
            "left": null
          }
        },
        "f5b937ba69b44aef89820ea2fb4e734a": {
          "model_module": "@jupyter-widgets/controls",
          "model_name": "ProgressStyleModel",
          "model_module_version": "1.5.0",
          "state": {
            "_view_name": "StyleView",
            "_model_name": "ProgressStyleModel",
            "description_width": "",
            "_view_module": "@jupyter-widgets/base",
            "_model_module_version": "1.5.0",
            "_view_count": null,
            "_view_module_version": "1.2.0",
            "bar_color": null,
            "_model_module": "@jupyter-widgets/controls"
          }
        },
        "1b0ed93f2fdb461eb01747bf1e84174c": {
          "model_module": "@jupyter-widgets/base",
          "model_name": "LayoutModel",
          "model_module_version": "1.2.0",
          "state": {
            "_view_name": "LayoutView",
            "grid_template_rows": null,
            "right": null,
            "justify_content": null,
            "_view_module": "@jupyter-widgets/base",
            "overflow": null,
            "_model_module_version": "1.2.0",
            "_view_count": null,
            "flex_flow": null,
            "width": null,
            "min_width": null,
            "border": null,
            "align_items": null,
            "bottom": null,
            "_model_module": "@jupyter-widgets/base",
            "top": null,
            "grid_column": null,
            "overflow_y": null,
            "overflow_x": null,
            "grid_auto_flow": null,
            "grid_area": null,
            "grid_template_columns": null,
            "flex": null,
            "_model_name": "LayoutModel",
            "justify_items": null,
            "grid_row": null,
            "max_height": null,
            "align_content": null,
            "visibility": null,
            "align_self": null,
            "height": null,
            "min_height": null,
            "padding": null,
            "grid_auto_rows": null,
            "grid_gap": null,
            "max_width": null,
            "order": null,
            "_view_module_version": "1.2.0",
            "grid_template_areas": null,
            "object_position": null,
            "object_fit": null,
            "grid_auto_columns": null,
            "margin": null,
            "display": null,
            "left": null
          }
        },
        "70fd2b2da1674dc3bd318444500f2fd7": {
          "model_module": "@jupyter-widgets/controls",
          "model_name": "DescriptionStyleModel",
          "model_module_version": "1.5.0",
          "state": {
            "_view_name": "StyleView",
            "_model_name": "DescriptionStyleModel",
            "description_width": "",
            "_view_module": "@jupyter-widgets/base",
            "_model_module_version": "1.5.0",
            "_view_count": null,
            "_view_module_version": "1.2.0",
            "_model_module": "@jupyter-widgets/controls"
          }
        },
        "d1ee1ecd73cc415b9327151c575031c4": {
          "model_module": "@jupyter-widgets/base",
          "model_name": "LayoutModel",
          "model_module_version": "1.2.0",
          "state": {
            "_view_name": "LayoutView",
            "grid_template_rows": null,
            "right": null,
            "justify_content": null,
            "_view_module": "@jupyter-widgets/base",
            "overflow": null,
            "_model_module_version": "1.2.0",
            "_view_count": null,
            "flex_flow": null,
            "width": null,
            "min_width": null,
            "border": null,
            "align_items": null,
            "bottom": null,
            "_model_module": "@jupyter-widgets/base",
            "top": null,
            "grid_column": null,
            "overflow_y": null,
            "overflow_x": null,
            "grid_auto_flow": null,
            "grid_area": null,
            "grid_template_columns": null,
            "flex": null,
            "_model_name": "LayoutModel",
            "justify_items": null,
            "grid_row": null,
            "max_height": null,
            "align_content": null,
            "visibility": null,
            "align_self": null,
            "height": null,
            "min_height": null,
            "padding": null,
            "grid_auto_rows": null,
            "grid_gap": null,
            "max_width": null,
            "order": null,
            "_view_module_version": "1.2.0",
            "grid_template_areas": null,
            "object_position": null,
            "object_fit": null,
            "grid_auto_columns": null,
            "margin": null,
            "display": null,
            "left": null
          }
        },
        "0ad6cdfa8b0542d7acc6f4645d1fd716": {
          "model_module": "@jupyter-widgets/controls",
          "model_name": "HBoxModel",
          "model_module_version": "1.5.0",
          "state": {
            "_view_name": "HBoxView",
            "_dom_classes": [],
            "_model_name": "HBoxModel",
            "_view_module": "@jupyter-widgets/controls",
            "_model_module_version": "1.5.0",
            "_view_count": null,
            "_view_module_version": "1.5.0",
            "box_style": "",
            "layout": "IPY_MODEL_2e2a399943664572b9a1870a0b22ead9",
            "_model_module": "@jupyter-widgets/controls",
            "children": [
              "IPY_MODEL_41253a1367054a9f826b905a7699d3fc",
              "IPY_MODEL_00c6e501fa494f5b80563b13babde5d9",
              "IPY_MODEL_d3b634fe45fe48f983e501167099b90f"
            ]
          }
        },
        "2e2a399943664572b9a1870a0b22ead9": {
          "model_module": "@jupyter-widgets/base",
          "model_name": "LayoutModel",
          "model_module_version": "1.2.0",
          "state": {
            "_view_name": "LayoutView",
            "grid_template_rows": null,
            "right": null,
            "justify_content": null,
            "_view_module": "@jupyter-widgets/base",
            "overflow": null,
            "_model_module_version": "1.2.0",
            "_view_count": null,
            "flex_flow": null,
            "width": null,
            "min_width": null,
            "border": null,
            "align_items": null,
            "bottom": null,
            "_model_module": "@jupyter-widgets/base",
            "top": null,
            "grid_column": null,
            "overflow_y": null,
            "overflow_x": null,
            "grid_auto_flow": null,
            "grid_area": null,
            "grid_template_columns": null,
            "flex": null,
            "_model_name": "LayoutModel",
            "justify_items": null,
            "grid_row": null,
            "max_height": null,
            "align_content": null,
            "visibility": null,
            "align_self": null,
            "height": null,
            "min_height": null,
            "padding": null,
            "grid_auto_rows": null,
            "grid_gap": null,
            "max_width": null,
            "order": null,
            "_view_module_version": "1.2.0",
            "grid_template_areas": null,
            "object_position": null,
            "object_fit": null,
            "grid_auto_columns": null,
            "margin": null,
            "display": null,
            "left": null
          }
        },
        "41253a1367054a9f826b905a7699d3fc": {
          "model_module": "@jupyter-widgets/controls",
          "model_name": "HTMLModel",
          "model_module_version": "1.5.0",
          "state": {
            "_view_name": "HTMLView",
            "style": "IPY_MODEL_6bb660f51d0b47cdaf5273b9a7f88114",
            "_dom_classes": [],
            "description": "",
            "_model_name": "HTMLModel",
            "placeholder": "​",
            "_view_module": "@jupyter-widgets/controls",
            "_model_module_version": "1.5.0",
            "value": "",
            "_view_count": null,
            "_view_module_version": "1.5.0",
            "description_tooltip": null,
            "_model_module": "@jupyter-widgets/controls",
            "layout": "IPY_MODEL_49c82e05283546f2a0440a8c079d368a"
          }
        },
        "00c6e501fa494f5b80563b13babde5d9": {
          "model_module": "@jupyter-widgets/controls",
          "model_name": "FloatProgressModel",
          "model_module_version": "1.5.0",
          "state": {
            "_view_name": "ProgressView",
            "style": "IPY_MODEL_c7345a62f31c452880b99e659a4537a6",
            "_dom_classes": [],
            "description": "",
            "_model_name": "FloatProgressModel",
            "bar_style": "success",
            "max": 4542,
            "_view_module": "@jupyter-widgets/controls",
            "_model_module_version": "1.5.0",
            "value": 4542,
            "_view_count": null,
            "_view_module_version": "1.5.0",
            "orientation": "horizontal",
            "min": 0,
            "description_tooltip": null,
            "_model_module": "@jupyter-widgets/controls",
            "layout": "IPY_MODEL_0d2d5aed55aa4fc0873c19a6d95ccdd5"
          }
        },
        "d3b634fe45fe48f983e501167099b90f": {
          "model_module": "@jupyter-widgets/controls",
          "model_name": "HTMLModel",
          "model_module_version": "1.5.0",
          "state": {
            "_view_name": "HTMLView",
            "style": "IPY_MODEL_97ad7da5693b448c96705ac3eb2c6eda",
            "_dom_classes": [],
            "description": "",
            "_model_name": "HTMLModel",
            "placeholder": "​",
            "_view_module": "@jupyter-widgets/controls",
            "_model_module_version": "1.5.0",
            "value": " 5120/? [00:00&lt;00:00, 107173.77it/s]",
            "_view_count": null,
            "_view_module_version": "1.5.0",
            "description_tooltip": null,
            "_model_module": "@jupyter-widgets/controls",
            "layout": "IPY_MODEL_f2ab4a26cfb44ff3b095159716b1b8ec"
          }
        },
        "6bb660f51d0b47cdaf5273b9a7f88114": {
          "model_module": "@jupyter-widgets/controls",
          "model_name": "DescriptionStyleModel",
          "model_module_version": "1.5.0",
          "state": {
            "_view_name": "StyleView",
            "_model_name": "DescriptionStyleModel",
            "description_width": "",
            "_view_module": "@jupyter-widgets/base",
            "_model_module_version": "1.5.0",
            "_view_count": null,
            "_view_module_version": "1.2.0",
            "_model_module": "@jupyter-widgets/controls"
          }
        },
        "49c82e05283546f2a0440a8c079d368a": {
          "model_module": "@jupyter-widgets/base",
          "model_name": "LayoutModel",
          "model_module_version": "1.2.0",
          "state": {
            "_view_name": "LayoutView",
            "grid_template_rows": null,
            "right": null,
            "justify_content": null,
            "_view_module": "@jupyter-widgets/base",
            "overflow": null,
            "_model_module_version": "1.2.0",
            "_view_count": null,
            "flex_flow": null,
            "width": null,
            "min_width": null,
            "border": null,
            "align_items": null,
            "bottom": null,
            "_model_module": "@jupyter-widgets/base",
            "top": null,
            "grid_column": null,
            "overflow_y": null,
            "overflow_x": null,
            "grid_auto_flow": null,
            "grid_area": null,
            "grid_template_columns": null,
            "flex": null,
            "_model_name": "LayoutModel",
            "justify_items": null,
            "grid_row": null,
            "max_height": null,
            "align_content": null,
            "visibility": null,
            "align_self": null,
            "height": null,
            "min_height": null,
            "padding": null,
            "grid_auto_rows": null,
            "grid_gap": null,
            "max_width": null,
            "order": null,
            "_view_module_version": "1.2.0",
            "grid_template_areas": null,
            "object_position": null,
            "object_fit": null,
            "grid_auto_columns": null,
            "margin": null,
            "display": null,
            "left": null
          }
        },
        "c7345a62f31c452880b99e659a4537a6": {
          "model_module": "@jupyter-widgets/controls",
          "model_name": "ProgressStyleModel",
          "model_module_version": "1.5.0",
          "state": {
            "_view_name": "StyleView",
            "_model_name": "ProgressStyleModel",
            "description_width": "",
            "_view_module": "@jupyter-widgets/base",
            "_model_module_version": "1.5.0",
            "_view_count": null,
            "_view_module_version": "1.2.0",
            "bar_color": null,
            "_model_module": "@jupyter-widgets/controls"
          }
        },
        "0d2d5aed55aa4fc0873c19a6d95ccdd5": {
          "model_module": "@jupyter-widgets/base",
          "model_name": "LayoutModel",
          "model_module_version": "1.2.0",
          "state": {
            "_view_name": "LayoutView",
            "grid_template_rows": null,
            "right": null,
            "justify_content": null,
            "_view_module": "@jupyter-widgets/base",
            "overflow": null,
            "_model_module_version": "1.2.0",
            "_view_count": null,
            "flex_flow": null,
            "width": null,
            "min_width": null,
            "border": null,
            "align_items": null,
            "bottom": null,
            "_model_module": "@jupyter-widgets/base",
            "top": null,
            "grid_column": null,
            "overflow_y": null,
            "overflow_x": null,
            "grid_auto_flow": null,
            "grid_area": null,
            "grid_template_columns": null,
            "flex": null,
            "_model_name": "LayoutModel",
            "justify_items": null,
            "grid_row": null,
            "max_height": null,
            "align_content": null,
            "visibility": null,
            "align_self": null,
            "height": null,
            "min_height": null,
            "padding": null,
            "grid_auto_rows": null,
            "grid_gap": null,
            "max_width": null,
            "order": null,
            "_view_module_version": "1.2.0",
            "grid_template_areas": null,
            "object_position": null,
            "object_fit": null,
            "grid_auto_columns": null,
            "margin": null,
            "display": null,
            "left": null
          }
        },
        "97ad7da5693b448c96705ac3eb2c6eda": {
          "model_module": "@jupyter-widgets/controls",
          "model_name": "DescriptionStyleModel",
          "model_module_version": "1.5.0",
          "state": {
            "_view_name": "StyleView",
            "_model_name": "DescriptionStyleModel",
            "description_width": "",
            "_view_module": "@jupyter-widgets/base",
            "_model_module_version": "1.5.0",
            "_view_count": null,
            "_view_module_version": "1.2.0",
            "_model_module": "@jupyter-widgets/controls"
          }
        },
        "f2ab4a26cfb44ff3b095159716b1b8ec": {
          "model_module": "@jupyter-widgets/base",
          "model_name": "LayoutModel",
          "model_module_version": "1.2.0",
          "state": {
            "_view_name": "LayoutView",
            "grid_template_rows": null,
            "right": null,
            "justify_content": null,
            "_view_module": "@jupyter-widgets/base",
            "overflow": null,
            "_model_module_version": "1.2.0",
            "_view_count": null,
            "flex_flow": null,
            "width": null,
            "min_width": null,
            "border": null,
            "align_items": null,
            "bottom": null,
            "_model_module": "@jupyter-widgets/base",
            "top": null,
            "grid_column": null,
            "overflow_y": null,
            "overflow_x": null,
            "grid_auto_flow": null,
            "grid_area": null,
            "grid_template_columns": null,
            "flex": null,
            "_model_name": "LayoutModel",
            "justify_items": null,
            "grid_row": null,
            "max_height": null,
            "align_content": null,
            "visibility": null,
            "align_self": null,
            "height": null,
            "min_height": null,
            "padding": null,
            "grid_auto_rows": null,
            "grid_gap": null,
            "max_width": null,
            "order": null,
            "_view_module_version": "1.2.0",
            "grid_template_areas": null,
            "object_position": null,
            "object_fit": null,
            "grid_auto_columns": null,
            "margin": null,
            "display": null,
            "left": null
          }
        }
      }
    },
    "accelerator": "GPU"
  },
  "cells": [
    {
      "cell_type": "markdown",
      "metadata": {
        "id": "view-in-github",
        "colab_type": "text"
      },
      "source": [
        "<a href=\"https://colab.research.google.com/github/heli3199/Artificial-Intelligence/blob/main/Assignment_04_Exercise.ipynb\" target=\"_parent\"><img src=\"https://colab.research.google.com/assets/colab-badge.svg\" alt=\"Open In Colab\"/></a>"
      ]
    },
    {
      "cell_type": "markdown",
      "metadata": {
        "id": "zmwWs4S9cRIn"
      },
      "source": [
        "# ECE 57000 Assignment 4 Exercise\n",
        "\n",
        "Your Name: Heliben Parikh\n"
      ]
    },
    {
      "cell_type": "markdown",
      "metadata": {
        "id": "Vmlsa88cqmib"
      },
      "source": [
        "## Exercise 0: Train your model on GPU (0 points)"
      ]
    },
    {
      "cell_type": "markdown",
      "metadata": {
        "id": "WfirXJR3qvB0"
      },
      "source": [
        "For some tasks in this assignment, it can take a long time if you run it on CPU. For example, based on our test on Exercise 3 Task 4, it will take roughly 2 hours to train the full model for 1 epoch on CPU. Hence, we highly recommend you try to train your model on GPU.\n",
        "\n",
        "To do so, first you need to enable GPU on Colab (this will restart the runtime). Click `Runtime`-> `Change runtime type` and select the `Hardware accelerator` there.  You can then run the following code to see if the GPU is correctly initialized and available.\n",
        "\n"
      ]
    },
    {
      "cell_type": "code",
      "metadata": {
        "id": "TT7wKvilvBvX",
        "colab": {
          "base_uri": "https://localhost:8080/"
        },
        "outputId": "14175312-29c3-4009-cba8-b84e7e59c12c"
      },
      "source": [
        "import torch\n",
        "print(f'Can I can use GPU now? -- {torch.cuda.is_available()}')"
      ],
      "execution_count": null,
      "outputs": [
        {
          "output_type": "stream",
          "name": "stdout",
          "text": [
            "Can I can use GPU now? -- True\n"
          ]
        }
      ]
    },
    {
      "cell_type": "markdown",
      "metadata": {
        "id": "hnPPDoA7vQWp"
      },
      "source": [
        "### You must manually move your model and data to the GPU (and sometimes back to the cpu)\n",
        "After setting the GPU up on colab, then you should put your **model** and **data** to GPU. We give a simple example below. You can use `to` function for this task. See [torch.Tensor.to](https://pytorch.org/docs/stable/generated/torch.Tensor.to.html) to move a tensor to the GPU (probably your mini-batch of data in each iteration) or [torch.nn.Module.to](https://pytorch.org/docs/stable/generated/torch.nn.Module.html#torch.nn.Module.to) to move your NN model to GPU (assuming you create subclass [torch.nn.Module](https://pytorch.org/docs/stable/generated/torch.nn.Module.html)). Note that `to()` of tensor returns a NEW tensor while `to` of a NN model will apply this in-place. To be safe, the best semantics are `obj = obj.to(device)`. For printing, you will need to move a tensor back to the CPU via the `cpu()` function.\n",
        "\n",
        "Once the model and input data are on the GPU, everything else can be done the same.  This is the beauty of PyTorch GPU acceleration.  None of the other code needs to be altered.\n",
        "\n",
        "To summarize, you need to 1) enable GPU acceleration in Colab, 2) put the model on the GPU, and 3) put the input data (i.e., the batch of samples) onto the GPU using `to()` after it is loaded by the data loaders (usually you only put one batch of data on the GPU at a time)."
      ]
    },
    {
      "cell_type": "code",
      "metadata": {
        "id": "lUdR8v7Kt-6S",
        "colab": {
          "base_uri": "https://localhost:8080/"
        },
        "outputId": "5f57b649-99cc-4a19-acfc-5ca10997d49e"
      },
      "source": [
        "import torch.nn as nn\n",
        "rand_tensor = torch.rand(5,2)\n",
        "simple_model = nn.Sequential(nn.Linear(2,10), nn.ReLU(), nn.Linear(10,1))\n",
        "print(f'input is on {rand_tensor.device}')\n",
        "print(f'model parameters are on {[param.device for param in simple_model.parameters()]}')\n",
        "print(f'output is on {simple_model(rand_tensor).device}')\n",
        "\n",
        "device = torch.device('cuda')\n",
        "# ----------- <Your code> ---------------\n",
        "# Move rand_tensor and model onto the GPU device\n",
        "rand_tensor = rand_tensor.to(device)\n",
        "simple_model = simple_model.to(device)\n",
        "\n",
        "# --------- <End your code> -------------\n",
        "print(f'input is on {rand_tensor.device}')\n",
        "print(f'model parameters are on {[param.device for param in simple_model.parameters()]}')\n",
        "print(f'output is on {simple_model(rand_tensor).device}')"
      ],
      "execution_count": null,
      "outputs": [
        {
          "output_type": "stream",
          "name": "stdout",
          "text": [
            "input is on cpu\n",
            "model parameters are on [device(type='cpu'), device(type='cpu'), device(type='cpu'), device(type='cpu')]\n",
            "output is on cpu\n",
            "input is on cuda:0\n",
            "model parameters are on [device(type='cuda', index=0), device(type='cuda', index=0), device(type='cuda', index=0), device(type='cuda', index=0)]\n",
            "output is on cuda:0\n"
          ]
        }
      ]
    },
    {
      "cell_type": "markdown",
      "metadata": {
        "id": "Zz2T0QYYpwVR"
      },
      "source": [
        "## Exercise 1: Why use a CNN rather than only fully connected layers? (30 points)\n",
        "\n",
        "In this exercise, you will build two models for the **MNIST** dataset: one uses only fully connected layers and another uses a standard CNN layout (convolution layers everywhere except the last layer is fully connected layer). The two models should be built with roughly the same accuracy performance, your task is to compare the number of network parameters (a huge number of parameters can affect training/testing time, memory requirements, overfitting, etc.)."
      ]
    },
    {
      "cell_type": "markdown",
      "metadata": {
        "id": "DFKqew7r-E-q"
      },
      "source": [
        "### Task 1: Following the structure used in the instructions, you should create\n",
        "\n",
        "*   One network named **OurFC** which should consist with only fully connected layers\n",
        "\n",
        "  *   You should decide how many layers and how many hidden dimensions you want in your network \n",
        "  *   Your final accuracy on the test dataset should lie roughly around 90% ($\\pm$2%)\n",
        "  *   There is no need to make the neural network unnecessarily complex, your total training time should no longer than 3 mins\n",
        "\n",
        "*   Another network named **OurCNN** which applys a standard CNN structure\n",
        "  *   Again, you should decide how many layers and how many channels you want for each layer.\n",
        "  *   Your final accuracy on the test dataset should lie roughly around 90% ($\\pm$2%)\n",
        "  *   A standard CNN structure can be composed as **[Conv2d, MaxPooling, ReLU] x num_conv_layers + FC x num_fc_layers**\n",
        "\n",
        "* Train and test your network on MNIST data as in the instructions\n",
        "* You are **required** to print out the loss in the training and loss+accuracy in the test as in the instructions."
      ]
    },
    {
      "cell_type": "code",
      "metadata": {
        "id": "6_6GQJYrMfEn",
        "colab": {
          "base_uri": "https://localhost:8080/",
          "height": 692,
          "referenced_widgets": [
            "c0026c80185341c592f684879ba304e7",
            "13d3738726bb4ea783d8be415e42ed99",
            "a4520510e29c47e1aae0e87b65a5d2b1",
            "83e8e0d063674de19db7f9eb514e556f",
            "00560bbcd9f84e17a6a1e0774b86407f",
            "027011eaa83f455383d5dd21b356a1a8",
            "99126934ee02435d9a50e7acb982bc9c",
            "0a356370698749d597a12ad45bdcdaf7",
            "2124b32cdd7f4188ac7c26e8ce84f1d7",
            "3c9410f8ae4f43f583a241e3f2ac1123",
            "d268eee641aa4edc9e1a8b968592bd80",
            "40cf19378f434ad282078a4e9384e0a1",
            "9a3675e5166f4af7926bcd6f84cf2ab4",
            "d9525fd2f195493983d885520eec96e0",
            "c9c36401a75a4383ac54068f5b83d276",
            "51697a75ac3e4d8ab1f8a4b7ba16c7e4",
            "332d106426714308849a3f12517f7f71",
            "da44c5a2a57a47b8acb33fe0122f75d8",
            "1492a4eec0514289bb69db843801f0b3",
            "857d058173d146bb8cd8797771c189db",
            "79ed4d60b67c49e9bfb1b20e710fab66",
            "557d52c9a06c485099816ed9cec5013c",
            "b7e84fa02c254918997cb72436552c6d",
            "7348abee45474cc7a36c824cab38d7e2",
            "bdc1fcc81c7f4c6fb23daca04fbb0df2",
            "ac979a86d42647569ec30a5de3f8d422",
            "b1cd3b195579476fb74e17cecba0a37e",
            "36fd41a1787a4328a06229d09f32e070",
            "cd54d40631c8469ebdeca3aabd3b0532",
            "f5b937ba69b44aef89820ea2fb4e734a",
            "1b0ed93f2fdb461eb01747bf1e84174c",
            "70fd2b2da1674dc3bd318444500f2fd7",
            "d1ee1ecd73cc415b9327151c575031c4",
            "0ad6cdfa8b0542d7acc6f4645d1fd716",
            "2e2a399943664572b9a1870a0b22ead9",
            "41253a1367054a9f826b905a7699d3fc",
            "00c6e501fa494f5b80563b13babde5d9",
            "d3b634fe45fe48f983e501167099b90f",
            "6bb660f51d0b47cdaf5273b9a7f88114",
            "49c82e05283546f2a0440a8c079d368a",
            "c7345a62f31c452880b99e659a4537a6",
            "0d2d5aed55aa4fc0873c19a6d95ccdd5",
            "97ad7da5693b448c96705ac3eb2c6eda",
            "f2ab4a26cfb44ff3b095159716b1b8ec"
          ]
        },
        "outputId": "08a66880-6775-45c2-bb12-6f84c37abb90"
      },
      "source": [
        "import torchvision\n",
        "\n",
        "transform = torchvision.transforms.Compose([torchvision.transforms.ToTensor(),\n",
        "                      torchvision.transforms.Normalize((0.1307,),(0.3081,))])\n",
        "\n",
        "train_dataset = torchvision.datasets.MNIST('/data', train=True, download=True, transform=transform)\n",
        "test_dataset = torchvision.datasets.MNIST('/data', train=False, download=True, transform=transform)\n",
        "\n",
        "print(train_dataset)\n",
        "\n",
        "batch_size_train, batch_size_test = 64, 1000\n",
        "\n",
        "train_loader = torch.utils.data.DataLoader(train_dataset, batch_size=batch_size_train, shuffle=True)\n",
        "test_loader = torch.utils.data.DataLoader(test_dataset, batch_size=batch_size_test, shuffle=False)\n",
        "\n",
        "print(train_loader)\n",
        "\n",
        "\n",
        "batch_idx, (images, targets) = next(enumerate(train_loader))\n",
        "print(f'current batch index is {batch_idx}')\n",
        "print(f'images has shape {images.size()}')\n",
        "print(f'targets has shape {targets.size()}')"
      ],
      "execution_count": null,
      "outputs": [
        {
          "output_type": "stream",
          "name": "stdout",
          "text": [
            "Downloading http://yann.lecun.com/exdb/mnist/train-images-idx3-ubyte.gz\n",
            "Downloading http://yann.lecun.com/exdb/mnist/train-images-idx3-ubyte.gz to /data/MNIST/raw/train-images-idx3-ubyte.gz\n"
          ]
        },
        {
          "output_type": "display_data",
          "data": {
            "application/vnd.jupyter.widget-view+json": {
              "model_id": "c0026c80185341c592f684879ba304e7",
              "version_minor": 0,
              "version_major": 2
            },
            "text/plain": [
              "  0%|          | 0/9912422 [00:00<?, ?it/s]"
            ]
          },
          "metadata": {}
        },
        {
          "output_type": "stream",
          "name": "stdout",
          "text": [
            "Extracting /data/MNIST/raw/train-images-idx3-ubyte.gz to /data/MNIST/raw\n",
            "\n",
            "Downloading http://yann.lecun.com/exdb/mnist/train-labels-idx1-ubyte.gz\n",
            "Downloading http://yann.lecun.com/exdb/mnist/train-labels-idx1-ubyte.gz to /data/MNIST/raw/train-labels-idx1-ubyte.gz\n"
          ]
        },
        {
          "output_type": "display_data",
          "data": {
            "application/vnd.jupyter.widget-view+json": {
              "model_id": "40cf19378f434ad282078a4e9384e0a1",
              "version_minor": 0,
              "version_major": 2
            },
            "text/plain": [
              "  0%|          | 0/28881 [00:00<?, ?it/s]"
            ]
          },
          "metadata": {}
        },
        {
          "output_type": "stream",
          "name": "stdout",
          "text": [
            "Extracting /data/MNIST/raw/train-labels-idx1-ubyte.gz to /data/MNIST/raw\n",
            "\n",
            "Downloading http://yann.lecun.com/exdb/mnist/t10k-images-idx3-ubyte.gz\n",
            "Downloading http://yann.lecun.com/exdb/mnist/t10k-images-idx3-ubyte.gz to /data/MNIST/raw/t10k-images-idx3-ubyte.gz\n"
          ]
        },
        {
          "output_type": "display_data",
          "data": {
            "application/vnd.jupyter.widget-view+json": {
              "model_id": "b7e84fa02c254918997cb72436552c6d",
              "version_minor": 0,
              "version_major": 2
            },
            "text/plain": [
              "  0%|          | 0/1648877 [00:00<?, ?it/s]"
            ]
          },
          "metadata": {}
        },
        {
          "output_type": "stream",
          "name": "stdout",
          "text": [
            "Extracting /data/MNIST/raw/t10k-images-idx3-ubyte.gz to /data/MNIST/raw\n",
            "\n",
            "Downloading http://yann.lecun.com/exdb/mnist/t10k-labels-idx1-ubyte.gz\n",
            "Downloading http://yann.lecun.com/exdb/mnist/t10k-labels-idx1-ubyte.gz to /data/MNIST/raw/t10k-labels-idx1-ubyte.gz\n"
          ]
        },
        {
          "output_type": "display_data",
          "data": {
            "application/vnd.jupyter.widget-view+json": {
              "model_id": "0ad6cdfa8b0542d7acc6f4645d1fd716",
              "version_minor": 0,
              "version_major": 2
            },
            "text/plain": [
              "  0%|          | 0/4542 [00:00<?, ?it/s]"
            ]
          },
          "metadata": {}
        },
        {
          "output_type": "stream",
          "name": "stdout",
          "text": [
            "Extracting /data/MNIST/raw/t10k-labels-idx1-ubyte.gz to /data/MNIST/raw\n",
            "\n",
            "Dataset MNIST\n",
            "    Number of datapoints: 60000\n",
            "    Root location: /data\n",
            "    Split: Train\n",
            "    StandardTransform\n",
            "Transform: Compose(\n",
            "               ToTensor()\n",
            "               Normalize(mean=(0.1307,), std=(0.3081,))\n",
            "           )\n",
            "<torch.utils.data.dataloader.DataLoader object at 0x7f1d41c6f250>\n",
            "current batch index is 0\n",
            "images has shape torch.Size([64, 1, 28, 28])\n",
            "targets has shape torch.Size([64])\n"
          ]
        },
        {
          "output_type": "stream",
          "name": "stderr",
          "text": [
            "/usr/local/lib/python3.7/dist-packages/torchvision/datasets/mnist.py:498: UserWarning: The given NumPy array is not writeable, and PyTorch does not support non-writeable tensors. This means you can write to the underlying (supposedly non-writeable) NumPy array using the tensor. You may want to copy the array to protect its data or make it writeable before converting it to a tensor. This type of warning will be suppressed for the rest of this program. (Triggered internally at  /pytorch/torch/csrc/utils/tensor_numpy.cpp:180.)\n",
            "  return torch.from_numpy(parsed.astype(m[2], copy=False)).view(*s)\n"
          ]
        }
      ]
    },
    {
      "cell_type": "code",
      "metadata": {
        "id": "vze1Qo_xRqgi"
      },
      "source": [
        "import torch\n",
        "import torch.nn as nn\n",
        "import torch.nn.functional as F\n",
        "input_size = 784\n",
        "output_size = 10\n",
        "hidden_size = 200\n",
        "\n",
        "class OurFC(nn.Module):\n",
        "  def __init__(self):\n",
        "    super(OurFC, self).__init__()\n",
        "    self.fcl1 = nn.Linear(input_size, hidden_size)\n",
        "    self.relu = nn.ReLU()\n",
        "    self.fcl2 = nn.Linear(hidden_size, output_size)\n",
        "        \n",
        "  def forward(self, x):\n",
        "    x = x.flatten(1)\n",
        "    x = self.fcl1(x)\n",
        "    x = self.relu(x)\n",
        "    x = self.fcl2(x)\n",
        "    return F.log_softmax(x,-1)\n",
        "\n",
        "import torch.optim as optim\n",
        "\n",
        "classifier = OurFC()\n",
        "optimizer = optim.SGD(classifier.parameters(), lr=0.01, momentum=0.8)\n",
        "\n",
        "def train(classifier, epoch):\n",
        "\n",
        "  classifier.train() # we need to set the mode for our model\n",
        "\n",
        "  for batch_idx, (images, targets) in enumerate(train_loader):\n",
        "\n",
        "    optimizer.zero_grad()\n",
        "    output = classifier(images)\n",
        "    loss = F.nll_loss(output, targets) # Here is a typical loss function (negative log likelihood)\n",
        "    loss.backward()\n",
        "    optimizer.step()\n",
        "\n",
        "    if batch_idx % 10 == 0: # We record our output every 10 batches\n",
        "      train_losses.append(loss.item()) # item() is to get the value of the tensor directly\n",
        "      train_counter.append(\n",
        "        (batch_idx*64) + ((epoch-1)*len(train_loader.dataset)))\n",
        "    if batch_idx % 100 == 0: # We visulize our output every 10 batches\n",
        "      print(f'Epoch {epoch}: [{batch_idx*len(images)}/{len(train_loader.dataset)}] Loss: {loss.item()}')\n",
        "\n",
        "\n",
        "def test(classifier, epoch):\n",
        "\n",
        "  classifier.eval() # we need to set the mode for our model\n",
        "\n",
        "  test_loss = 0\n",
        "  correct = 0\n",
        "\n",
        "  with torch.no_grad():\n",
        "    for images, targets in test_loader:\n",
        "      output = classifier(images)\n",
        "      test_loss += F.nll_loss(output, targets, reduction='sum').item()\n",
        "      pred = output.data.max(1, keepdim=True)[1] # we get the estimate of our result by look at the largest class value\n",
        "      correct += pred.eq(targets.data.view_as(pred)).sum() # sum up the corrected samples\n",
        "  \n",
        "  test_loss /= len(test_loader.dataset)\n",
        "  test_losses.append(test_loss)\n",
        "  test_counter.append(len(train_loader.dataset)*epoch)\n",
        "\n",
        "  print(f'Test result on epoch {epoch}: Avg loss is {test_loss}, Accuracy: {100.*correct/len(test_loader.dataset)}%')\n"
      ],
      "execution_count": null,
      "outputs": []
    },
    {
      "cell_type": "code",
      "metadata": {
        "id": "7o9naYDWMOLL",
        "colab": {
          "base_uri": "https://localhost:8080/"
        },
        "outputId": "ebd64716-b7be-4857-8e7f-536b3c009202"
      },
      "source": [
        "train_losses = []\n",
        "train_counter = []\n",
        "test_losses = []\n",
        "test_counter = []\n",
        "max_epoch = 3\n",
        "\n",
        "for epoch in range(1, max_epoch+1):\n",
        "  train(classifier, epoch)\n",
        "  test(classifier, epoch)"
      ],
      "execution_count": null,
      "outputs": [
        {
          "output_type": "stream",
          "name": "stdout",
          "text": [
            "Epoch 1: [0/60000] Loss: 2.4052977561950684\n",
            "Epoch 1: [6400/60000] Loss: 0.4981573522090912\n",
            "Epoch 1: [12800/60000] Loss: 0.49709102511405945\n",
            "Epoch 1: [19200/60000] Loss: 0.4421815574169159\n",
            "Epoch 1: [25600/60000] Loss: 0.22142526507377625\n",
            "Epoch 1: [32000/60000] Loss: 0.3935529887676239\n",
            "Epoch 1: [38400/60000] Loss: 0.29307207465171814\n",
            "Epoch 1: [44800/60000] Loss: 0.4797735810279846\n",
            "Epoch 1: [51200/60000] Loss: 0.23962914943695068\n",
            "Epoch 1: [57600/60000] Loss: 0.19953154027462006\n",
            "Test result on epoch 1: Avg loss is 0.18354516983032226, Accuracy: 94.68000030517578%\n",
            "Epoch 2: [0/60000] Loss: 0.32579079270362854\n",
            "Epoch 2: [6400/60000] Loss: 0.1454439014196396\n",
            "Epoch 2: [12800/60000] Loss: 0.08930901437997818\n",
            "Epoch 2: [19200/60000] Loss: 0.10694098472595215\n",
            "Epoch 2: [25600/60000] Loss: 0.20777586102485657\n",
            "Epoch 2: [32000/60000] Loss: 0.12439475208520889\n",
            "Epoch 2: [38400/60000] Loss: 0.11231294274330139\n",
            "Epoch 2: [44800/60000] Loss: 0.13741882145404816\n",
            "Epoch 2: [51200/60000] Loss: 0.18516352772712708\n",
            "Epoch 2: [57600/60000] Loss: 0.21420449018478394\n",
            "Test result on epoch 2: Avg loss is 0.12710666046142577, Accuracy: 96.18000030517578%\n",
            "Epoch 3: [0/60000] Loss: 0.03355332836508751\n",
            "Epoch 3: [6400/60000] Loss: 0.10926612466573715\n",
            "Epoch 3: [12800/60000] Loss: 0.12009015679359436\n",
            "Epoch 3: [19200/60000] Loss: 0.11004354059696198\n",
            "Epoch 3: [25600/60000] Loss: 0.11319024115800858\n",
            "Epoch 3: [32000/60000] Loss: 0.0378878228366375\n",
            "Epoch 3: [38400/60000] Loss: 0.08986177295446396\n",
            "Epoch 3: [44800/60000] Loss: 0.06434650719165802\n",
            "Epoch 3: [51200/60000] Loss: 0.07795100659132004\n",
            "Epoch 3: [57600/60000] Loss: 0.10803487151861191\n",
            "Test result on epoch 3: Avg loss is 0.10241744117736816, Accuracy: 96.87999725341797%\n"
          ]
        }
      ]
    },
    {
      "cell_type": "code",
      "metadata": {
        "id": "FIVO5T4JgA_N"
      },
      "source": [
        "# ----------- <Your code> ---------------\n",
        "import torch.nn as nn\n",
        "import torch.nn.functional as F\n",
        "\n",
        "class OurCNN(nn.Module): \n",
        "\n",
        "  def __init__(self):\n",
        "    super(OurCNN, self).__init__()\n",
        "\n",
        "    self.conv = nn.Conv2d(1, 3, kernel_size=5)\n",
        "    self.fc = nn.Linear(432, 10)\n",
        "\n",
        "  def forward(self, x):\n",
        "    x = self.conv(x)        # x now has shape (batchsize x 3 x 24 x 24)\n",
        "    x = F.relu(F.max_pool2d(x,2))  # x now has shape (batchsize x 3 x 12 x 12)\n",
        "    x = x.view(-1, 432)      # x now has shape (batchsize x 432)\n",
        "    x = F.relu(self.fc(x))     # x has shape (batchsize x 10)\n",
        "    return F.log_softmax(x,-1) \n",
        "\n",
        "\n",
        "import torch.optim as optim\n",
        "\n",
        "classifier1 = OurCNN()\n",
        "optimizer = optim.SGD(classifier1.parameters(), lr=0.01, momentum=0.8)\n",
        "\n",
        "def train(classifier1, epoch):\n",
        "\n",
        "  classifier1.train() # we need to set the mode for our model\n",
        "\n",
        "  for batch_idx, (images, targets) in enumerate(train_loader):\n",
        "\n",
        "    optimizer.zero_grad()\n",
        "    output = classifier1(images)\n",
        "    loss = F.nll_loss(output, targets) # Here is a typical loss function (negative log likelihood)\n",
        "    loss.backward()\n",
        "    optimizer.step()\n",
        "\n",
        "    if batch_idx % 10 == 0: # We record our output every 10 batches\n",
        "      train_losses.append(loss.item()) # item() is to get the value of the tensor directly\n",
        "      train_counter.append(\n",
        "        (batch_idx*64) + ((epoch-1)*len(train_loader.dataset)))\n",
        "    if batch_idx % 100 == 0: # We visulize our output every 10 batches\n",
        "      print(f'Epoch {epoch}: [{batch_idx*len(images)}/{len(train_loader.dataset)}] Loss: {loss.item()}')\n",
        "\n",
        "\n",
        "def test(classifier1, epoch):\n",
        "\n",
        "  classifier1.eval() # we need to set the mode for our model\n",
        "\n",
        "  test_loss = 0\n",
        "  correct = 0\n",
        "\n",
        "  with torch.no_grad():\n",
        "    for images, targets in test_loader:\n",
        "      output = classifier1(images)\n",
        "      test_loss += F.nll_loss(output, targets, reduction='sum').item()\n",
        "      pred = output.data.max(1, keepdim=True)[1] # we get the estimate of our result by look at the largest class value\n",
        "      correct += pred.eq(targets.data.view_as(pred)).sum() # sum up the corrected samples\n",
        "  \n",
        "  test_loss /= len(test_loader.dataset)\n",
        "  test_losses.append(test_loss)\n",
        "  test_counter.append(len(train_loader.dataset)*epoch)\n",
        "\n",
        "  print(f'Test result on epoch {epoch}: Avg loss is {test_loss}, Accuracy: {100.*correct/len(test_loader.dataset)}%')"
      ],
      "execution_count": null,
      "outputs": []
    },
    {
      "cell_type": "code",
      "metadata": {
        "id": "YTBpacsCL-SM",
        "colab": {
          "base_uri": "https://localhost:8080/"
        },
        "outputId": "16645144-7fad-44b2-be4a-30d85b74c083"
      },
      "source": [
        "train_losses = []\n",
        "train_counter = []\n",
        "test_losses = []\n",
        "test_counter = []\n",
        "max_epoch = 3\n",
        "\n",
        "for epoch in range(1, max_epoch+1):\n",
        "  train(classifier1, epoch)\n",
        "  test(classifier1, epoch)"
      ],
      "execution_count": null,
      "outputs": [
        {
          "output_type": "stream",
          "name": "stderr",
          "text": [
            "/usr/local/lib/python3.7/dist-packages/torch/nn/functional.py:718: UserWarning: Named tensors and all their associated APIs are an experimental feature and subject to change. Please do not use them for anything important until they are released as stable. (Triggered internally at  /pytorch/c10/core/TensorImpl.h:1156.)\n",
            "  return torch.max_pool2d(input, kernel_size, stride, padding, dilation, ceil_mode)\n"
          ]
        },
        {
          "output_type": "stream",
          "name": "stdout",
          "text": [
            "Epoch 1: [0/60000] Loss: 2.3382444381713867\n",
            "Epoch 1: [6400/60000] Loss: 0.4897024929523468\n",
            "Epoch 1: [12800/60000] Loss: 0.2412685751914978\n",
            "Epoch 1: [19200/60000] Loss: 0.7151153683662415\n",
            "Epoch 1: [25600/60000] Loss: 0.36420533061027527\n",
            "Epoch 1: [32000/60000] Loss: 0.35586273670196533\n",
            "Epoch 1: [38400/60000] Loss: 0.3296612501144409\n",
            "Epoch 1: [44800/60000] Loss: 0.6933466196060181\n",
            "Epoch 1: [51200/60000] Loss: 0.09937207400798798\n",
            "Epoch 1: [57600/60000] Loss: 0.3135760724544525\n",
            "Test result on epoch 1: Avg loss is 0.12268757934570312, Accuracy: 96.05999755859375%\n",
            "Epoch 2: [0/60000] Loss: 0.18522247672080994\n",
            "Epoch 2: [6400/60000] Loss: 0.22796569764614105\n",
            "Epoch 2: [12800/60000] Loss: 0.1281757354736328\n",
            "Epoch 2: [19200/60000] Loss: 0.11357274651527405\n",
            "Epoch 2: [25600/60000] Loss: 0.10439292341470718\n",
            "Epoch 2: [32000/60000] Loss: 0.04065630957484245\n",
            "Epoch 2: [38400/60000] Loss: 0.32689014077186584\n",
            "Epoch 2: [44800/60000] Loss: 0.0844619944691658\n",
            "Epoch 2: [51200/60000] Loss: 0.0902884379029274\n",
            "Epoch 2: [57600/60000] Loss: 0.1276189386844635\n",
            "Test result on epoch 2: Avg loss is 0.08925952949523926, Accuracy: 97.30999755859375%\n",
            "Epoch 3: [0/60000] Loss: 0.02337735705077648\n",
            "Epoch 3: [6400/60000] Loss: 0.06470955163240433\n",
            "Epoch 3: [12800/60000] Loss: 0.12164469063282013\n",
            "Epoch 3: [19200/60000] Loss: 0.06842973828315735\n",
            "Epoch 3: [25600/60000] Loss: 0.09849559515714645\n",
            "Epoch 3: [32000/60000] Loss: 0.03651384636759758\n",
            "Epoch 3: [38400/60000] Loss: 0.1358572095632553\n",
            "Epoch 3: [44800/60000] Loss: 0.048267245292663574\n",
            "Epoch 3: [51200/60000] Loss: 0.18311229348182678\n",
            "Epoch 3: [57600/60000] Loss: 0.1861707866191864\n",
            "Test result on epoch 3: Avg loss is 0.07908444309234619, Accuracy: 97.47000122070312%\n"
          ]
        }
      ]
    },
    {
      "cell_type": "markdown",
      "metadata": {
        "id": "8fJY7m55fObt"
      },
      "source": [
        "### Task 2: Compare the number of parameters that are used in both your neural networks by printing out the total number of parameters for both of your networks."
      ]
    },
    {
      "cell_type": "markdown",
      "metadata": {
        "id": "JEVoEH2QLvv0"
      },
      "source": [
        "**Note:** You need to clearly show which number corresponds to which network."
      ]
    },
    {
      "cell_type": "code",
      "metadata": {
        "id": "JrjN1dr_f-lc",
        "colab": {
          "base_uri": "https://localhost:8080/"
        },
        "outputId": "b3b6e307-e558-4312-b666-a7d68972cf9c"
      },
      "source": [
        "# ----------- <Your code> ---------------\n",
        "print(\"OurFC parameters:\", end =\" \")\n",
        "FCtotal_params = sum(p.numel() for p in classifier.parameters())\n",
        "print(FCtotal_params)\n",
        "#for name, p in classifier.named_parameters():\n",
        "#  print(name, ',', p.size(), type(p))\n",
        "\n",
        "print(\"OurCNN parameters:\", end =\" \")\n",
        "CNNtotal_params = sum(p.numel() for p in classifier1.parameters())\n",
        "print(CNNtotal_params)\n",
        "#for name, p in classifier1.named_parameters():\n",
        "#  print(name, ',', p.size(), type(p))"
      ],
      "execution_count": null,
      "outputs": [
        {
          "output_type": "stream",
          "name": "stdout",
          "text": [
            "OurFC parameters: 159010\n",
            "OurCNN parameters: 4408\n"
          ]
        }
      ]
    },
    {
      "cell_type": "markdown",
      "metadata": {
        "id": "v5oMKOrhmfpM"
      },
      "source": [
        "Questions (0 points, just for understanding): Which one has more parameters?  Which one is likely to have less computational cost when deployed? Which one took longer to train?"
      ]
    },
    {
      "cell_type": "markdown",
      "metadata": {
        "id": "290mOBEHgEXr"
      },
      "source": [
        "## Exercise 2: Train classifier on CIFAR-10 data. (30 points)\n",
        "Now, lets move our dataset to color images. CIFAR-10 dataset is another widely used dataset. Here all images have colors, i.e each image has 3 color channels instead of only one channel in MNIST. You need to pay more attention to the dimension of the data as it passes through the layers of your network."
      ]
    },
    {
      "cell_type": "markdown",
      "metadata": {
        "id": "IHClZywoGwWt"
      },
      "source": [
        "### Task 1: Create data loaders and plot images\n",
        "Set up a `train_loader` and `test_loader` for the CIFAR-10 data, and plot a figure:\n",
        "\n",
        "*   3 x 3 subplot\n",
        "*   each subplot is a randomly chosen image from the test dataset\n",
        "*   label each image with its label\n",
        "\n",
        "The corresponding names of the classes is given as \n",
        "`classes = ('plane', 'car', 'bird', 'cat', 'deer', 'dog', 'frog', 'horse', 'ship', 'truck')`\n",
        "\n",
        "Note: In your transforms, the normalizing constant is given as `transforms.Normalize((0.5, 0.5, 0.5), (0.5, 0.5, 0.5))])`"
      ]
    },
    {
      "cell_type": "code",
      "metadata": {
        "id": "oobbO_pGhYbs",
        "colab": {
          "base_uri": "https://localhost:8080/",
          "height": 750
        },
        "outputId": "c89d6ec0-ace1-4592-83e4-75a40c052f8b"
      },
      "source": [
        "# ----------- <Your code> ---------------\n",
        "\n",
        "import torch\n",
        "import torchvision\n",
        "import torchvision.transforms as transforms\n",
        "import matplotlib.pyplot as plt\n",
        "import numpy as np\n",
        "\n",
        "transform = transforms.Compose(\n",
        "    [transforms.ToTensor(),\n",
        "     transforms.Normalize((0.5, 0.5, 0.5), (0.5, 0.5, 0.5))])\n",
        "\n",
        "batch_size = 9\n",
        "\n",
        "trainset = torchvision.datasets.CIFAR10(root='./data', train=True,\n",
        "                                        download=True, transform=transform)\n",
        "trainloader = torch.utils.data.DataLoader(trainset, batch_size=batch_size,\n",
        "                                          shuffle=True, num_workers=2)\n",
        "\n",
        "testset = torchvision.datasets.CIFAR10(root='./data', train=False,\n",
        "                                       download=True, transform=transform)\n",
        "testloader = torch.utils.data.DataLoader(testset, batch_size=batch_size,\n",
        "                                         shuffle=False, num_workers=2)\n",
        "\n",
        "classes = ('plane', 'car', 'bird', 'cat',\n",
        "           'deer', 'dog', 'frog', 'horse', 'ship', 'truck')\n",
        "\n",
        "dataiter = iter(testloader)  # random images from test dataset\n",
        "images, labels = dataiter.next()\n",
        "\n",
        "fig, ax = plt.subplots(3,3)\n",
        "fig.set_size_inches(12,12)\n",
        "for i in range(3):\n",
        "  for j in range(3):\n",
        "    img = images[i*3+j]/ 2+0.5\n",
        "    img = img.numpy()\n",
        "    img = img.swapaxes(0,1).swapaxes(1,2)\n",
        "    ax[i,j].imshow(img)\n",
        "    ax[i,j].set_title(f'{classes[labels[i*3+j]]}')\n",
        "fig.show()"
      ],
      "execution_count": null,
      "outputs": [
        {
          "output_type": "stream",
          "name": "stdout",
          "text": [
            "Files already downloaded and verified\n",
            "Files already downloaded and verified\n"
          ]
        },
        {
          "output_type": "display_data",
          "data": {
            "image/png": "[encoded data removed]",
            "text/plain": [
              "<Figure size 864x864 with 9 Axes>"
            ]
          },
          "metadata": {
            "needs_background": "light"
          }
        }
      ]
    },
    {
      "cell_type": "markdown",
      "metadata": {
        "id": "f0FMDyDzijEG"
      },
      "source": [
        "### Task 2: Create CNN and train it\n",
        "Set up a convolutional neural network and have your data trained on it. You have to decide all the details in your network, overall your neural network should meet the following standards:\n",
        "\n",
        "\n",
        "*   You should not use more than three convolutional layers and three fully connected layers\n",
        "*   Accuracy on the test dataset should be **above** 50%\n",
        "\n"
      ]
    },
    {
      "cell_type": "code",
      "metadata": {
        "id": "cRuEf8tAlnsP",
        "colab": {
          "base_uri": "https://localhost:8080/"
        },
        "outputId": "7a747ee7-a04c-4cd0-f562-7c74009b4a6f"
      },
      "source": [
        "# ----------- <Your code> ---------------\n",
        "#\n",
        "import torch.nn as nn\n",
        "import torch.nn.functional as F\n",
        "\n",
        "\n",
        "class Net(nn.Module):\n",
        "    def __init__(self):\n",
        "        super().__init__()\n",
        "        self.conv1 = nn.Conv2d(3, 6, 5)\n",
        "        self.pool = nn.MaxPool2d(2, 2)\n",
        "        self.conv2 = nn.Conv2d(6, 16, 5)\n",
        "        self.fc1 = nn.Linear(16 * 5 * 5, 120)\n",
        "        self.fc2 = nn.Linear(120, 84)\n",
        "        self.fc3 = nn.Linear(84, 10)\n",
        "\n",
        "    def forward(self, x):\n",
        "        x = self.pool(F.relu(self.conv1(x)))\n",
        "        x = self.pool(F.relu(self.conv2(x)))\n",
        "        x = torch.flatten(x, 1) \n",
        "        x = F.relu(self.fc1(x))\n",
        "        x = F.relu(self.fc2(x))\n",
        "        x = self.fc3(x)\n",
        "        return x\n",
        "\n",
        "\n",
        "net = Net()\n",
        "\n",
        "\n",
        "import torch.optim as optim\n",
        "\n",
        "criterion = nn.CrossEntropyLoss()\n",
        "optimizer = optim.SGD(net.parameters(), lr=0.001, momentum=0.9)\n",
        "\n",
        "for epoch in range(3):  \n",
        "\n",
        "    running_loss = 0.0\n",
        "    for i, data in enumerate(trainloader, 0):\n",
        "        # get the inputs; data is a list of [inputs, labels]\n",
        "        inputs, labels = data\n",
        "\n",
        "        # zero the parameter gradients\n",
        "        optimizer.zero_grad()\n",
        "\n",
        "        # forward + backward + optimize\n",
        "        outputs = net(inputs)\n",
        "        loss = criterion(outputs, labels)\n",
        "        loss.backward()\n",
        "        optimizer.step()\n",
        "\n",
        "        running_loss += loss.item()\n",
        "        if i % 2000 == 1999:    \n",
        "            print('[%d, %5d] loss: %.3f' %\n",
        "                  (epoch + 1, i + 1, running_loss / 2000))\n",
        "            running_loss = 0.0\n",
        "\n",
        "print('Finished Training')"
      ],
      "execution_count": null,
      "outputs": [
        {
          "output_type": "stream",
          "name": "stdout",
          "text": [
            "[1,  2000] loss: 2.195\n",
            "[1,  4000] loss: 1.799\n",
            "[2,  2000] loss: 1.504\n",
            "[2,  4000] loss: 1.424\n",
            "[3,  2000] loss: 1.295\n",
            "[3,  4000] loss: 1.274\n",
            "Finished Training\n"
          ]
        }
      ]
    },
    {
      "cell_type": "code",
      "metadata": {
        "id": "sU06KW2jdpzB"
      },
      "source": [
        "PATH = './cifar_net.pth'\n",
        "torch.save(net.state_dict(), PATH)"
      ],
      "execution_count": null,
      "outputs": []
    },
    {
      "cell_type": "code",
      "metadata": {
        "id": "rqHlQxkLdRHW",
        "colab": {
          "base_uri": "https://localhost:8080/"
        },
        "outputId": "1b04d957-5247-43d0-cce2-e948caa1cd0b"
      },
      "source": [
        "correct = 0\n",
        "total = 0\n",
        "\n",
        "with torch.no_grad():\n",
        "    for data in testloader:\n",
        "        images, labels = data\n",
        "        \n",
        "        outputs = net(images)\n",
        "        \n",
        "        _, predicted = torch.max(outputs.data, 1)\n",
        "        total += labels.size(0)\n",
        "        correct += (predicted == labels).sum().item()\n",
        "\n",
        "print('Accuracy of the network on the 10000 test images: %d %%' % (\n",
        "    100 * correct / total))"
      ],
      "execution_count": null,
      "outputs": [
        {
          "output_type": "stream",
          "name": "stdout",
          "text": [
            "Accuracy of the network on the 10000 test images: 56 %\n"
          ]
        }
      ]
    },
    {
      "cell_type": "markdown",
      "metadata": {
        "id": "hS1mXr9Cl6pM"
      },
      "source": [
        "### Task 3: Plot misclassified test images\n",
        "Plot some misclassified images in your test dataset:\n",
        "\n",
        "*   select three images that are **misclassified** by your neural network\n",
        "*   label each images with true label and predicted label\n",
        "\n"
      ]
    },
    {
      "cell_type": "code",
      "metadata": {
        "id": "xd8vWof8nIHw",
        "colab": {
          "base_uri": "https://localhost:8080/",
          "height": 866
        },
        "outputId": "630c8bad-30cf-460f-85dc-a66320c86f60"
      },
      "source": [
        "# ----------- <Your code> ---------------\n",
        "dataiter = iter(testloader)\n",
        "images, labels = dataiter.next()\n",
        "\n",
        "#imshow(torchvision.utils.make_grid(images))\n",
        "#print('GroundTruth: ', ' '.join('%5s' % classes[labels[j]] for j in range(3)))\n",
        "\n",
        "net = Net()\n",
        "net.load_state_dict(torch.load(PATH))\n",
        "\n",
        "outputs = net(images)\n",
        "_, predicted = torch.max(outputs, 1)\n",
        "\n",
        "#print('Predicted: ', ' '.join('%5s' % classes[predicted[j]] for j in range(3)))\n",
        "count =0\n",
        "for i in range(20):\n",
        "  if (count==3):\n",
        "    break\n",
        "  if (labels[i]!=predicted[i]):\n",
        "    count = count +1\n",
        "    print(\"Actual Label:\", end =\" \")\n",
        "    print(classes[labels[i]])\n",
        "    print(\"Predicted Label:\", end =\" \")\n",
        "    print(classes[predicted[i]])\n",
        "    imshow(torchvision.utils.make_grid(images[i]))\n",
        "   "
      ],
      "execution_count": null,
      "outputs": [
        {
          "output_type": "stream",
          "name": "stdout",
          "text": [
            "Actual Label: ship\n",
            "Predicted Label: car\n"
          ]
        },
        {
          "output_type": "display_data",
          "data": {
            "image/png": "[encoded data removed]",
            "text/plain": [
              "<Figure size 432x288 with 1 Axes>"
            ]
          },
          "metadata": {
            "needs_background": "light"
          }
        },
        {
          "output_type": "stream",
          "name": "stdout",
          "text": [
            "Actual Label: ship\n",
            "Predicted Label: car\n"
          ]
        },
        {
          "output_type": "display_data",
          "data": {
            "image/png": "[encoded data removed]",
            "text/plain": [
              "<Figure size 432x288 with 1 Axes>"
            ]
          },
          "metadata": {
            "needs_background": "light"
          }
        },
        {
          "output_type": "stream",
          "name": "stdout",
          "text": [
            "Actual Label: plane\n",
            "Predicted Label: car\n"
          ]
        },
        {
          "output_type": "display_data",
          "data": {
            "image/png": "[encoded data removed]",
            "text/plain": [
              "<Figure size 432x288 with 1 Axes>"
            ]
          },
          "metadata": {
            "needs_background": "light"
          }
        }
      ]
    },
    {
      "cell_type": "markdown",
      "metadata": {
        "id": "qLwe9kA_DMN2"
      },
      "source": [
        "Questions (0 points): Are the mis-classified images also misleading to human eyes?"
      ]
    },
    {
      "cell_type": "markdown",
      "metadata": {
        "id": "INN54zXpTcZw"
      },
      "source": [
        "## Exercise 3: Transfer Learning (30 points)"
      ]
    },
    {
      "cell_type": "markdown",
      "metadata": {
        "id": "IgDHswfp0k7m"
      },
      "source": [
        "In practice, people won't train an entire CNN from scratch, because it is relatively rare to have a dataset of sufficient size (or sufficient computational power). Instead, it is common to pretrain a CNN on a very large dataset and then use the CNN either as an initialization or a fixed feature extractor for the task of interest.\n",
        "\n",
        "In this task, you will learn how to use a pretrained CNN for CIFAR-10 classification."
      ]
    },
    {
      "cell_type": "markdown",
      "metadata": {
        "id": "f21CjwoW8ty5"
      },
      "source": [
        "### Task1: Load pretrained model"
      ]
    },
    {
      "cell_type": "markdown",
      "metadata": {
        "id": "VZ-21Pv183TX"
      },
      "source": [
        "`torchvision.models` (https://pytorch.org/vision/stable/models.html) contains definitions of models for addressing different tasks, including: image classification, pixelwise semantic segmentation, object detection, instance segmentation, person keypoint detection and video classification.\n",
        "\n",
        "First, you should load the **pretrained** ResNet-18 that has already been trained on [ImageNet](https://www.image-net.org/) using `torchvision.models`. If you are interested in more details about Resnet-18, read this paper https://arxiv.org/pdf/1512.03385.pdf."
      ]
    },
    {
      "cell_type": "code",
      "metadata": {
        "id": "KaHP0VfAVuDY"
      },
      "source": [
        "# ----------- <Your code> ---------------\n",
        "import torchvision.models as models\n",
        "model = models.resnet18(pretrained=True)"
      ],
      "execution_count": null,
      "outputs": []
    },
    {
      "cell_type": "markdown",
      "metadata": {
        "id": "MtQkZUZH84q8"
      },
      "source": [
        "### Task2: Create data loaders for CIFAR-10"
      ]
    },
    {
      "cell_type": "markdown",
      "metadata": {
        "id": "GTlRo-CJ4GQD"
      },
      "source": [
        "Then you need to create a dataloader of CIFAR-10. Note that the model you load has been trained on **ImageNet** and it expects inputs as mini-batches of 3-channel RGB images of shape (3 x H x W), where H and W are expected to be **at least** 224. So you need to preprocess the CIFAR-10 data to make sure it has a height and width. See [`torchvision.transforms.Resize`](https://pytorch.org/vision/stable/transforms.html#torchvision.transforms.Resize).\n",
        "You will probably want to add this transform appropriately to the `transform` you created in a previous task.\n"
      ]
    },
    {
      "cell_type": "code",
      "metadata": {
        "id": "lhFys7OQV1Wj",
        "colab": {
          "base_uri": "https://localhost:8080/"
        },
        "outputId": "5bac8885-b2b8-4d6f-bd65-927a8e82928d"
      },
      "source": [
        "# ----------- <Your code> ---------------\n",
        "import torch\n",
        "from torchvision import datasets, transforms as T\n",
        "from torchvision.datasets import CIFAR10\n",
        "from torch.utils.data import Dataset, DataLoader\n",
        "import numpy as np\n",
        "\n",
        "batch_size = 40\n",
        "normalize = transforms.Normalize(mean=[0.485, 0.456, 0.406],\n",
        "                                 std=[0.229, 0.224, 0.225])\n",
        "\n",
        "transform = T.Compose([T.Resize(256), T.CenterCrop(224), T.ToTensor()])\n",
        "\n",
        "train_dataset = torchvision.datasets.CIFAR10(\n",
        "    root= './data', train = True,\n",
        "    download =True, transform = transform)\n",
        "test_dataset = torchvision.datasets.CIFAR10(\n",
        "    root= './data', train = False,\n",
        "    download =True, transform = transform)\n",
        "\n",
        "train_loader = torch.utils.data.DataLoader(train_dataset, batch_size = batch_size, shuffle = True)\n",
        "test_loader = torch.utils.data.DataLoader(test_dataset, batch_size = batch_size, shuffle = True)\n",
        "\n",
        "classes = ('plane', 'car', 'bird', 'cat',\n",
        "           'deer', 'dog', 'frog', 'horse', 'ship', 'truck')"
      ],
      "execution_count": null,
      "outputs": [
        {
          "output_type": "stream",
          "name": "stdout",
          "text": [
            "Files already downloaded and verified\n",
            "Files already downloaded and verified\n"
          ]
        }
      ]
    },
    {
      "cell_type": "markdown",
      "metadata": {
        "id": "k8nR_aBi9Atb"
      },
      "source": [
        "### Task3: Classify test data on pretrained model"
      ]
    },
    {
      "cell_type": "markdown",
      "metadata": {
        "id": "N8IXXu-J9grR"
      },
      "source": [
        "Use the model you load to classify the **test** CIFAR-10 data and print out the test accuracy.\n",
        "\n",
        "Don't be surprised if the accuracy is bad!"
      ]
    },
    {
      "cell_type": "code",
      "metadata": {
        "id": "m2AF-5CiaJj7",
        "colab": {
          "base_uri": "https://localhost:8080/"
        },
        "outputId": "b7cd3377-51d3-49a1-aa4f-c32e93efaf58"
      },
      "source": [
        "model = model.to(device)\n",
        "with torch.no_grad():\n",
        "    number_corrects = 0\n",
        "    number_samples = 0\n",
        "    for i, (test_images_set , test_labels_set) in enumerate(test_loader):\n",
        "        test_images_set = test_images_set.to(device)\n",
        "        test_labels_set = test_labels_set.to(device)\n",
        "    \n",
        "        y_predicted = model(test_images_set)\n",
        "        labels_predicted = y_predicted.argmax(axis = 1)\n",
        "        number_corrects += (labels_predicted==test_labels_set).sum().item()\n",
        "        number_samples += test_labels_set.size(0)\n",
        "    print(f'Overall accuracy {(number_corrects / number_samples)*100}%')"
      ],
      "execution_count": null,
      "outputs": [
        {
          "output_type": "stream",
          "name": "stdout",
          "text": [
            "Overall accuracy 0.08%\n"
          ]
        }
      ]
    },
    {
      "cell_type": "markdown",
      "metadata": {
        "id": "ETLezHR0-ByE"
      },
      "source": [
        "### Task 4: Update model for CIFAR-10"
      ]
    },
    {
      "cell_type": "markdown",
      "metadata": {
        "id": "BbQrsL-U-Faq"
      },
      "source": [
        "Now try to improve the test accuracy. We offer several possible solutions:\n",
        "\n",
        "(1) You can try to directly continue to train the model you load with the CIFAR-10 training data. \n",
        "\n",
        "(2) For efficiency, you can try to freeze part of the parameters of the loaded models. For example, you can first freeze all parameters by\n",
        "\n",
        "```\n",
        "for param in model.parameters():\n",
        "    param.requires_grad = False\n",
        "```\n",
        "and then unfreeze the last few layers by setting `somelayer.requires_grad=True`.\n",
        "\n",
        "You are also welcome to try any other approach you can think of.\n",
        "\n",
        "\n",
        "**Note:** You should print out the test accuracy and to get full credits, the test accuracy should be at least **80%**."
      ]
    },
    {
      "cell_type": "code",
      "metadata": {
        "colab": {
          "base_uri": "https://localhost:8080/"
        },
        "id": "-s02gJGjMirL",
        "outputId": "d4ad7c0d-7fd4-4e13-d09c-f058d5d80c48"
      },
      "source": [
        "import torch.optim as optim\n",
        "\n",
        "model = model.to(device)\n",
        "criterion = nn.CrossEntropyLoss()\n",
        "optimizer = torch.optim.SGD(model.parameters(), lr = 0.001, momentum=0.9,weight_decay=5e-4)\n",
        "\n",
        "num_epochs = 2\n",
        "n_total_step = len(train_loader)\n",
        "#print(n_total_step)\n",
        "\n",
        "for epoch in range(num_epochs):\n",
        "  for i, (imgs , labels) in enumerate(train_loader):\n",
        "    imgs = imgs.to(device)\n",
        "    labels = labels.to(device)\n",
        "    labels_hat = model(imgs)\n",
        "    n_corrects = (labels_hat.argmax(axis=1)==labels).sum().item()\n",
        "    loss_value = criterion(labels_hat, labels)\n",
        "    loss_value.backward()\n",
        "    optimizer.step()\n",
        "    optimizer.zero_grad()\n",
        "    if (i+1) % 250 == 0:\n",
        "      print(f' epoch {epoch+1}/{num_epochs}, step: {i+1}/{n_total_step}: loss = {loss_value:.5f}, acc = {100*(n_corrects/labels.size(0)):.2f}% ')\n",
        "  print()\n",
        "\n",
        "with torch.no_grad():\n",
        "    number_corrects = 0\n",
        "    number_samples = 0\n",
        "    for i, (test_images_set , test_labels_set) in enumerate(test_loader):\n",
        "        test_images_set = test_images_set.to(device)\n",
        "        test_labels_set = test_labels_set.to(device)\n",
        "    \n",
        "        y_predicted = model(test_images_set)\n",
        "        labels_predicted = y_predicted.argmax(axis = 1)\n",
        "        number_corrects += (labels_predicted==test_labels_set).sum().item()\n",
        "        number_samples += test_labels_set.size(0)\n",
        "    print(f'Overall accuracy {(number_corrects / number_samples)*100}%')"
      ],
      "execution_count": null,
      "outputs": [
        {
          "output_type": "stream",
          "name": "stdout",
          "text": [
            " epoch 1/2, step: 250/1250: loss = 1.20435, acc = 67.50% \n",
            " epoch 1/2, step: 500/1250: loss = 0.37338, acc = 85.00% \n",
            " epoch 1/2, step: 750/1250: loss = 0.83333, acc = 77.50% \n",
            " epoch 1/2, step: 1000/1250: loss = 0.23179, acc = 92.50% \n",
            " epoch 1/2, step: 1250/1250: loss = 0.32121, acc = 90.00% \n",
            "\n",
            " epoch 2/2, step: 250/1250: loss = 0.23652, acc = 95.00% \n",
            " epoch 2/2, step: 500/1250: loss = 0.24009, acc = 92.50% \n",
            " epoch 2/2, step: 750/1250: loss = 0.07259, acc = 97.50% \n",
            " epoch 2/2, step: 1000/1250: loss = 0.12100, acc = 95.00% \n",
            " epoch 2/2, step: 1250/1250: loss = 0.24296, acc = 90.00% \n",
            "\n",
            "Overall accuracy 91.11%\n"
          ]
        }
      ]
    },
    {
      "cell_type": "code",
      "metadata": {
        "id": "D2H2oDDyWv8t"
      },
      "source": [
        "# ----------- <Your code> --------------\n",
        "#for name, para in model.named_parameters():\n",
        "#  if para.requires_grad:print(name)\n",
        "for param in model.parameters():\n",
        "    param.requires_grad = False\n",
        "#print(param)\n",
        "params = model.state_dict()\n",
        "#params.keys()"
      ],
      "execution_count": null,
      "outputs": []
    },
    {
      "cell_type": "code",
      "metadata": {
        "id": "dMhB5wvhvBqz"
      },
      "source": [
        "model.fc.weight.requires_grad=True\n",
        "model.fc.bias.requires_grad =True\n",
        "model.bn1.weight.requires_grad=True\n",
        "model.bn1.bias.requires_grad=True"
      ],
      "execution_count": null,
      "outputs": []
    },
    {
      "cell_type": "code",
      "metadata": {
        "id": "gcUQ5Kn7vHAG",
        "colab": {
          "base_uri": "https://localhost:8080/"
        },
        "outputId": "3ae82997-b627-4def-e134-43148c86205f"
      },
      "source": [
        "import torch.optim as optim\n",
        "\n",
        "model = model.to(device)\n",
        "criterion = nn.CrossEntropyLoss()\n",
        "optimizer = torch.optim.SGD(model.parameters(), lr = 0.001, momentum=0.9,weight_decay=5e-4)\n",
        "\n",
        "num_epochs = 2\n",
        "n_total_step = len(train_loader)\n",
        "#print(n_total_step)\n",
        "\n",
        "for epoch in range(num_epochs):\n",
        "  for i, (imgs , labels) in enumerate(train_loader):\n",
        "    imgs = imgs.to(device)\n",
        "    labels = labels.to(device)\n",
        "    labels_hat = model(imgs)\n",
        "    n_corrects = (labels_hat.argmax(axis=1)==labels).sum().item()\n",
        "    loss_value = criterion(labels_hat, labels)\n",
        "    loss_value.backward()\n",
        "    optimizer.step()\n",
        "    optimizer.zero_grad()\n",
        "    if (i+1) % 250 == 0:\n",
        "      print(f' epoch {epoch+1}/{num_epochs}, step: {i+1}/{n_total_step}: loss = {loss_value:.5f}, acc = {100*(n_corrects/labels.size(0)):.2f}% ')\n",
        "  print()\n",
        "\n",
        "with torch.no_grad():\n",
        "    number_corrects = 0\n",
        "    number_samples = 0\n",
        "    for i, (test_images_set , test_labels_set) in enumerate(test_loader):\n",
        "        test_images_set = test_images_set.to(device)\n",
        "        test_labels_set = test_labels_set.to(device)\n",
        "    \n",
        "        y_predicted = model(test_images_set)\n",
        "        labels_predicted = y_predicted.argmax(axis = 1)\n",
        "        number_corrects += (labels_predicted==test_labels_set).sum().item()\n",
        "        number_samples += test_labels_set.size(0)\n",
        "    print(f'Overall accuracy {(number_corrects / number_samples)*100}%')"
      ],
      "execution_count": null,
      "outputs": [
        {
          "output_type": "stream",
          "name": "stdout",
          "text": [
            " epoch 1/2, step: 250/1250: loss = 0.12722, acc = 97.50% \n",
            " epoch 1/2, step: 500/1250: loss = 0.11250, acc = 97.50% \n",
            " epoch 1/2, step: 750/1250: loss = 0.20932, acc = 95.00% \n",
            " epoch 1/2, step: 1000/1250: loss = 0.04709, acc = 100.00% \n",
            " epoch 1/2, step: 1250/1250: loss = 0.02419, acc = 100.00% \n",
            "\n",
            " epoch 2/2, step: 250/1250: loss = 0.09363, acc = 97.50% \n",
            " epoch 2/2, step: 500/1250: loss = 0.05511, acc = 100.00% \n",
            " epoch 2/2, step: 750/1250: loss = 0.02146, acc = 100.00% \n",
            " epoch 2/2, step: 1000/1250: loss = 0.04992, acc = 97.50% \n",
            " epoch 2/2, step: 1250/1250: loss = 0.21850, acc = 92.50% \n",
            "\n",
            "Overall accuracy 91.72%\n"
          ]
        }
      ]
    },
    {
      "cell_type": "markdown",
      "metadata": {
        "id": "LN8YKMIJL7Xd"
      },
      "source": [
        "Freezing few parameters further increase my effciency from normal training."
      ]
    }
  ]
}