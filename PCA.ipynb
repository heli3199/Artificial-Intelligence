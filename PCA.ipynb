{
  "nbformat": 4,
  "nbformat_minor": 0,
  "metadata": {
    "colab": {
      "name": "PCA_Analysis.ipynb",
      "provenance": [],
      "collapsed_sections": [],
      "include_colab_link": true
    },
    "kernelspec": {
      "display_name": "Python 3",
      "language": "python",
      "name": "python3"
    },
    "language_info": {
      "codemirror_mode": {
        "name": "ipython",
        "version": 3
      },
      "file_extension": ".py",
      "mimetype": "text/x-python",
      "name": "python",
      "nbconvert_exporter": "python",
      "pygments_lexer": "ipython3",
      "version": "3.7.3"
    },
    "accelerator": "GPU"
  },
  "cells": [
    {
      "cell_type": "markdown",
      "metadata": {
        "id": "view-in-github",
        "colab_type": "text"
      },
      "source": [
        "<a href=\"https://colab.research.google.com/github/heli3199/Artificial-Intelligence/blob/main/PCA_Analysis.ipynb\" target=\"_parent\"><img src=\"https://colab.research.google.com/assets/colab-badge.svg\" alt=\"Open In Colab\"/></a>"
      ]
    },
    {
      "cell_type": "markdown",
      "metadata": {
        "id": "kLTpDVQk0ozE"
      },
      "source": [
        "# ECE 57000 Assignment 2 Exercises\n",
        "\n",
        "\n",
        "\n",
        "Name: Heliben Parikh"
      ]
    },
    {
      "cell_type": "markdown",
      "metadata": {
        "id": "JqJeDZYM1LbR"
      },
      "source": [
        "## Exercise 1 (10/100 points)\n",
        "\n",
        "In this exercise, you will need to write a simple function that reverses and doubles the values in a list. For example: input `[1,2,3]`, output `[6,4,2]`."
      ]
    },
    {
      "cell_type": "code",
      "metadata": {
        "id": "-kmPdZCA0uRl",
        "colab": {
          "base_uri": "https://localhost:8080/"
        },
        "outputId": "68a177ea-c4cc-4d8b-c575-f8ad7a0336e7"
      },
      "source": [
        "def reverse_double(list):\n",
        "\n",
        "  # <YOUR CODE>\n",
        "    new_list = list[::-1]\n",
        "    le = len(list)\n",
        "    for i in range(le):\n",
        "      new_list[i] =2*new_list[i]\n",
        "    return new_list\n",
        "\n",
        "\n",
        "A = [2,5,3,9,7]\n",
        "print(reverse_double(A))"
      ],
      "execution_count": null,
      "outputs": [
        {
          "output_type": "stream",
          "name": "stdout",
          "text": [
            "[14, 18, 6, 10, 4]\n"
          ]
        }
      ]
    },
    {
      "cell_type": "markdown",
      "metadata": {
        "id": "kBSX7VY10uvp"
      },
      "source": [
        "## Exercise 2 (20/100 points)\n",
        "In this exercise, you will need to help visualize several different distrubtions.\n",
        "\n",
        "### Task 1\n",
        "\n",
        "1.   Using numpy to generate a vector **D** with the following property:\n",
        "\n",
        "  *   Each element is in a normal distribution. \n",
        "  *   Vector has the shape **2000x1**\n",
        "\n",
        "2.   Reshape the vector **D** into **1000x2**\n",
        "\n",
        "3.   Plot the graph in the following way:\n",
        "  *   Create a figure of size 6 by 6\n",
        "  *   Treat the two columns of the array **D** as the **x** and **y** coordinates of 2D points. Use [scatter()](https://matplotlib.org/3.2.2/api/_as_gen/matplotlib.pyplot.scatter.html) to visualize all the spots and set the marker size to be 1\n",
        "  *   Let the plot shows the range `[-5,5]x[-5,5]`\n",
        "  *   Give the plot a title (indicating the shape of **D**), and also label the x-axis and y-axis \n",
        "\n",
        "**Note:** It is always important to include necessary information (e.g. label, legend, title) so that readers won't get confused.\n",
        "\n",
        "\n"
      ]
    },
    {
      "cell_type": "code",
      "metadata": {
        "id": "XLFvC76d6R6D",
        "colab": {
          "base_uri": "https://localhost:8080/",
          "height": 421
        },
        "outputId": "d7bf9690-2860-4add-f59b-05dbe78a79a2"
      },
      "source": [
        "import numpy as np\n",
        "import matplotlib.pyplot as plt\n",
        "\n",
        "#  <YOUR CODE>\n",
        "D = np.random.randn(2000,1)\n",
        "D = D.reshape((1000,2))\n",
        "x=D[:,0]\n",
        "y=D[:,1]\n",
        "#q=np.prod(y.shape)\n",
        "\n",
        "plt.figure(figsize=(6,6))\n",
        "plt.title(\"Shape of D\")\n",
        "plt.xlabel(\"1st column of D\")\n",
        "plt.ylabel(\"2nd column of D\")\n",
        "plt.xlim(-5,5)\n",
        "plt.ylim(-5,5)\n",
        "plt.scatter(x,y,s=1, label=\"Scatter plot of D\")\n",
        "plt.legend()"
      ],
      "execution_count": null,
      "outputs": [
        {
          "output_type": "execute_result",
          "data": {
            "text/plain": [
              "<matplotlib.legend.Legend at 0x7f86bd9ffe50>"
            ]
          },
          "metadata": {},
          "execution_count": 9
        },
        {
          "output_type": "display_data",
          "data": {
            "image/png": "[encoded data removed]",
            "text/plain": [
              "<Figure size 432x432 with 1 Axes>"
            ]
          },
          "metadata": {
            "needs_background": "light"
          }
        }
      ]
    },
    {
      "cell_type": "markdown",
      "metadata": {
        "id": "Q1HvCS16JFze"
      },
      "source": [
        "### Task 2\n",
        "\n",
        "1. Create an array **R** = $$\\begin{bmatrix} 0.25 & 0  \\\\ 0 & 1 \\\\  \\end{bmatrix}$$\n",
        "2. Compute **E** = **D** $\\times$ **R**.\n",
        "3. Repeat Step 3 above for **E**. (Title: shape of **E**)"
      ]
    },
    {
      "cell_type": "code",
      "metadata": {
        "id": "NT54YHtaKlrm",
        "colab": {
          "base_uri": "https://localhost:8080/",
          "height": 421
        },
        "outputId": "afe27d92-864f-4d5c-ad1d-5a972ac99ccb"
      },
      "source": [
        "#  <YOUR CODE>\n",
        "R =[[0.25, 0], [0, 1]]\n",
        "\n",
        "#E =np.zeros((1000,2))\n",
        "E=np.matmul(D,R)\n",
        "#for i in range(len(D)):  #second method\n",
        "#  for j in range(len(R[0])):\n",
        "#   for k in range(len(R)):\n",
        "#      E[i][j] += D[i][k] * R[k][j]\n",
        "\n",
        "x=E[:,0]\n",
        "y=E[:,1]\n",
        "#q=np.prod(y.shape)\n",
        "\n",
        "plt.figure(figsize=(6,6))\n",
        "plt.title(\"Shape of E\")\n",
        "plt.xlabel(\"1st column of E\")\n",
        "plt.ylabel(\"2nd column of E\")\n",
        "plt.xlim(-5,5)\n",
        "plt.ylim(-5,5)\n",
        "plt.scatter(x,y,s=1, label=\"Scatter plot of E\")\n",
        "plt.legend()"
      ],
      "execution_count": null,
      "outputs": [
        {
          "output_type": "execute_result",
          "data": {
            "text/plain": [
              "<matplotlib.legend.Legend at 0x7f86bd9f50d0>"
            ]
          },
          "metadata": {},
          "execution_count": 10
        },
        {
          "output_type": "display_data",
          "data": {
            "image/png": "[encoded data removed]",
            "text/plain": [
              "<Figure size 432x432 with 1 Axes>"
            ]
          },
          "metadata": {
            "needs_background": "light"
          }
        }
      ]
    },
    {
      "cell_type": "markdown",
      "metadata": {
        "id": "qzfsgTsLMvfT"
      },
      "source": [
        "### Task 3\n",
        "\n",
        "1. Create an array **R** = $$\\begin{bmatrix} \\sqrt(2)/2 & -\\sqrt(2)/2  \\\\ \\sqrt(2)/2 & \\sqrt(2)/2 \\\\  \\end{bmatrix}$$\n",
        "2. Compute **F** = **E** $\\times$ **R**.\n",
        "3. Repeat Step 3 above for **F**. (Title: shape of **F**)"
      ]
    },
    {
      "cell_type": "code",
      "metadata": {
        "id": "IF03LkqJMucG",
        "colab": {
          "base_uri": "https://localhost:8080/",
          "height": 421
        },
        "outputId": "278b7c13-dd3e-4ebe-8721-ff9f2a6b58bb"
      },
      "source": [
        "#  <YOUR CODE>\n",
        "R=[[(np.sqrt(2)/2), (-np.sqrt(2)/2)],[(np.sqrt(2)/2), (np.sqrt(2)/2)]]\n",
        "\n",
        "#F =np.zeros((1000,2))\n",
        "F = np.matmul(E,R)\n",
        "#for i in range(len(E)):    # second method\n",
        "#  for j in range(len(R[0])):\n",
        "#    for k in range(len(R)):\n",
        "#     F[i][j] += E[i][k] * R[k][j]\n",
        "\n",
        "x=F[:,0]\n",
        "y=F[:,1]\n",
        "#q=np.prod(y.shape)\n",
        "\n",
        "plt.figure(figsize=(6,6))\n",
        "plt.title(\"Shape of F\")\n",
        "plt.xlabel(\"1st column of F\")\n",
        "plt.ylabel(\"2nd column of F\")\n",
        "plt.xlim(-5,5)\n",
        "plt.ylim(-5,5)\n",
        "plt.scatter(x,y,s=1, label=\"Scatter plot of F\")\n",
        "plt.legend()"
      ],
      "execution_count": null,
      "outputs": [
        {
          "output_type": "execute_result",
          "data": {
            "text/plain": [
              "<matplotlib.legend.Legend at 0x7f86bd964c10>"
            ]
          },
          "metadata": {},
          "execution_count": 11
        },
        {
          "output_type": "display_data",
          "data": {
            "image/png": "[encoded data removed]",
            "text/plain": [
              "<Figure size 432x432 with 1 Axes>"
            ]
          },
          "metadata": {
            "needs_background": "light"
          }
        }
      ]
    },
    {
      "cell_type": "markdown",
      "metadata": {
        "id": "ZCASvgVjLDEM"
      },
      "source": [
        "## Exercise 3 (70/100 points)\n",
        "\n",
        "### Task 1: Generate a sparse matrix\n",
        "\n",
        "1. Generate a matrix **X** with size 100x50 with each element randomly picked from a uniform distribution **U**[0,1].\n",
        "2. Use logical(boolean) indexing to set the elements in **X** to **0** whenever the value of the element is smaller than 0.85 (In this way, you should get the matrix to have roughly 85% of its elements zero's).\n",
        "3. Use the function [csr_matrix()](https://docs.scipy.org/doc/scipy/reference/generated/scipy.sparse.csr_matrix.html#scipy.sparse.csr_matrix) to convert the matrix **X** into sparse matrix and call it **X_sparse**.\n",
        "\n"
      ]
    },
    {
      "cell_type": "code",
      "metadata": {
        "id": "yDb3gdzwfmiY",
        "colab": {
          "base_uri": "https://localhost:8080/"
        },
        "outputId": "f6dcc36b-ea54-4ce0-fc06-546e6c572bf1"
      },
      "source": [
        "import numpy as np\n",
        "from scipy.sparse import csr_matrix\n",
        "\n",
        "#  <YOUR CODE>\n",
        "X = np.random.rand(100,50)\n",
        "X[X<0.85] =0\n",
        "#X=np.where(X<0.85,0,X) # np.where for indexing\n",
        "#for i in range(len(X)):   # for loop for indexing\n",
        "#  for j in range(len(X[0])):\n",
        "#   if X[i][j] < 0.85:\n",
        "#     X[i][j] = 0\n",
        "X_sparse =csr_matrix(X)\n",
        "\n",
        "print(f'X has type {type(X)} and has {100-np.sum(X!=0)/50}% of zeros')\n",
        "print(f'X_sparse has type {type(X_sparse)} and has {100-np.sum(X_sparse!=0)/50}% of zeros')"
      ],
      "execution_count": null,
      "outputs": [
        {
          "output_type": "stream",
          "name": "stdout",
          "text": [
            "X has type <class 'numpy.ndarray'> and has 85.72% of zeros\n",
            "X_sparse has type <class 'scipy.sparse.csr.csr_matrix'> and has 85.72% of zeros\n"
          ]
        }
      ]
    },
    {
      "cell_type": "markdown",
      "metadata": {
        "id": "4sBEG0p_fm24"
      },
      "source": [
        "### Task 2: Construct the power iteration function\n",
        "\n",
        "Following the algorithm in the instructions notebook, write a function that takes a sparse matrix **X** and number of iterations as input and returns the top right singular vector of the centered matrix as output. We have provided some starter code and you need to fill in the rest."
      ]
    },
    {
      "cell_type": "code",
      "metadata": {
        "id": "SQKSkJ2ViC3t",
        "colab": {
          "base_uri": "https://localhost:8080/"
        },
        "outputId": "8fe3553d-dec3-46cf-b0ac-282ded978810"
      },
      "source": [
        "def power_iter(X, num_iter:int):\n",
        "   \n",
        "  v = np.random.randn(X.shape[1])  # Initialize with random vector with shape (d,)\n",
        "  one_vec = np.ones(X.shape[0])  # All ones vector with shape (n,)\n",
        "  mu_row_matrix = np.mean(X, axis=0)  # Returns a 1 row matrix with shape (d, 1) since X is of \"matrix\" type \n",
        "  mu = np.array(mu_row_matrix).squeeze()  # Convert from a sparse column matrix to a dense 1D array with shape (d,)\n",
        "  for i in range(num_iter):\n",
        "    q = X.dot(v)\n",
        "    r = mu.T.dot(v)\n",
        "    t = one_vec.T.dot(one_vec)\n",
        "    p = one_vec.T.dot(q)\n",
        "    v1 = (X.T.dot(q)) - (mu.dot(p)) - ((X.T.dot(one_vec)).dot(r)) + (mu.dot(t).dot(r))\n",
        "    n= np.linalg.norm(v1,2)\n",
        "    v =v1/n\n",
        "  return v\n",
        "  #  <YOUR CODE>\n",
        "\n",
        "v1_yours = power_iter(X_sparse,1000).squeeze()\n",
        "print(v1_yours.shape)"
      ],
      "execution_count": null,
      "outputs": [
        {
          "output_type": "stream",
          "name": "stdout",
          "text": [
            "(50,)\n"
          ]
        }
      ]
    },
    {
      "cell_type": "markdown",
      "metadata": {
        "id": "TkwEgBmCjEs1"
      },
      "source": [
        "### Task 3: Verifying your top singular vector\n",
        "Using any method you like to verify the vector that is computed by your function is indeed the top right singular vector of the **centered** data matrix.\n",
        "First write another function that outputs the top right singular vector for sure (you can use the function [svd()](https://numpy.org/doc/stable/reference/generated/numpy.linalg.svd.html), note that it returns $V^T$ instead of $V$).\n",
        "Then, the provided code will compute the mean absolute error (MAE) between the two functions you wrote.\n",
        "(Note: The provided evaluation code will correct for the fact that the two vectors can be the negative of each other singular value decomposition is only unique up to signs).\n",
        "The MAE should be close to machine precision (i.e., it should be less than about `1e-15`).\n",
        "\n",
        "**Note:** This is for testing the correctness of your algorithm.\n",
        "It is often a very good idea to write simple checks of your code as you write it to avoid bugs early on in your development process.\n",
        "Do not worry about efficiency for this exercise. "
      ]
    },
    {
      "cell_type": "code",
      "metadata": {
        "id": "xhD8BmI_ky8X",
        "colab": {
          "base_uri": "https://localhost:8080/"
        },
        "outputId": "a0763ca2-baf8-49ae-ce4e-c37e133db245"
      },
      "source": [
        "from scipy.linalg import svd\n",
        "def verify_v1(X):\n",
        "\n",
        "  # Compute the top right singular vector using other methods\n",
        "  #  <YOUR CODE>\n",
        "\n",
        "  Xc = X - np.mean(X, axis =0)\n",
        "  u, s, vh = svd(Xc)\n",
        "  v = vh.T\n",
        "  k = v[:,0]\n",
        "  return k\n",
        "  \n",
        "  \n",
        "# Note here we just pass in the dense 2D array `X`\n",
        "#  which represents the same matrix as `X_sparse`\n",
        "v1_simple = verify_v1(X).squeeze()\n",
        "# Compute a sign corrected difference between the vectors\n",
        "#  (accounting for the fact that SVD is only unique up to signs)\n",
        "diff_sign_corrected = np.sign(v1_yours[0]) * v1_yours - np.sign(v1_simple[0]) * v1_simple\n",
        "mae_corrected = np.mean(np.abs(diff_sign_corrected))\n",
        "print(f'The average absolute difference of the two function output is {mae_corrected}')"
      ],
      "execution_count": null,
      "outputs": [
        {
          "output_type": "stream",
          "name": "stdout",
          "text": [
            "The average absolute difference of the two function output is 1.4896677641429435e-15\n"
          ]
        }
      ]
    },
    {
      "cell_type": "markdown",
      "metadata": {
        "id": "itEKYY_elrdh"
      },
      "source": [
        "### (Optional and ungraded, 0 points) Task 4: Going beyond\n",
        "\n",
        "- In what scenarios we might find the power iteration method useful? \n",
        "  - Google's original ranking algorithm called \"PageRank\" uses a variant of this power iteration on very sparse graphs that represent connections between websites.  See [PageRank](https://en.wikipedia.org/wiki/PageRank).\n",
        "- Can you optimize your algorithm further by avoiding reusing computations?\n",
        "- Below, try your method with a much larger sparse X matrix (maybe 1000 x 1000 with 0.01% nonzeros, i.e. very sparse) and time the difference. For very short code snippets, you can use the `timeit` Python package or just use `time.time()` to capture the start and end times (subtracting them gets you the time in seconds).\n"
      ]
    },
    {
      "cell_type": "markdown",
      "metadata": {
        "id": "xFUhkYq7FGyr"
      },
      "source": [
        "Power iteration method can be use to find eigenvalues."
      ]
    }
  ]
}
